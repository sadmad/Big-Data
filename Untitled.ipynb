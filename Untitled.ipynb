{
 "cells": [
  {
   "cell_type": "markdown",
   "metadata": {},
   "source": [
    "## Assignment I"
   ]
  },
  {
   "cell_type": "markdown",
   "metadata": {},
   "source": [
    "## Task 1"
   ]
  },
  {
   "cell_type": "markdown",
   "metadata": {},
   "source": [
    " a) Create a list which contains all numbers from 0 to 10."
   ]
  },
  {
   "cell_type": "code",
   "execution_count": 82,
   "metadata": {},
   "outputs": [],
   "source": [
    "from copy import deepcopy\n",
    "import functools"
   ]
  },
  {
   "cell_type": "code",
   "execution_count": 2,
   "metadata": {},
   "outputs": [
    {
     "name": "stdout",
     "output_type": "stream",
     "text": [
      "[0, 1, 2, 3, 4, 5, 6, 7, 8, 9, 10] [0, 1, 2, 3, 4, 5, 6, 7, 8, 9, 10]\n"
     ]
    }
   ],
   "source": [
    "list1 = [0,1,2,3,4,5,6,7,8,9,10]\n",
    "list2 = list(range(0,11))\n",
    "print(list1, list2)"
   ]
  },
  {
   "cell_type": "markdown",
   "metadata": {},
   "source": [
    "b) Using the created list from (a), print each element of the created list, but only if\n",
    "it is an odd number. Use a loop and conditionals to do this. Try using different\n",
    "types of loops and decide which is best suiting for this simple task. (State this as a\n",
    "comment in the .txt-file.)"
   ]
  },
  {
   "cell_type": "code",
   "execution_count": 45,
   "metadata": {},
   "outputs": [
    {
     "name": "stdout",
     "output_type": "stream",
     "text": [
      "1\n",
      "3\n",
      "5\n",
      "7\n",
      "9\n"
     ]
    }
   ],
   "source": [
    "for n in list1:\n",
    "    if n % 2 != 0:\n",
    "        print(n)"
   ]
  },
  {
   "cell_type": "markdown",
   "metadata": {},
   "source": [
    "I thought a lot about the answer my only clow is a for loop counts the logic one time less than a while loop but if we want to work with the index we must use while or old fasion for loop. In blow I added another way of if logic."
   ]
  },
  {
   "cell_type": "code",
   "execution_count": 3,
   "metadata": {},
   "outputs": [
    {
     "name": "stdout",
     "output_type": "stream",
     "text": [
      "1\n",
      "3\n",
      "5\n",
      "7\n",
      "9\n"
     ]
    }
   ],
   "source": [
    "for n in list1:\n",
    "    if n % 2 == 1:\n",
    "        print(n)"
   ]
  },
  {
   "cell_type": "code",
   "execution_count": 47,
   "metadata": {},
   "outputs": [
    {
     "name": "stdout",
     "output_type": "stream",
     "text": [
      "1\n",
      "3\n",
      "5\n",
      "7\n",
      "9\n"
     ]
    },
    {
     "data": {
      "text/plain": [
       "[None, None, None, None, None]"
      ]
     },
     "execution_count": 47,
     "metadata": {},
     "output_type": "execute_result"
    }
   ],
   "source": [
    "[print(n) for n in list2 if n%2>0] "
   ]
  },
  {
   "cell_type": "code",
   "execution_count": 113,
   "metadata": {},
   "outputs": [
    {
     "name": "stdout",
     "output_type": "stream",
     "text": [
      "1\n",
      "3\n",
      "5\n",
      "7\n",
      "9\n"
     ]
    }
   ],
   "source": [
    "i = 0\n",
    "while i < len(list1):\n",
    "    if list1[i] % 2 > 0:\n",
    "        print(list1[i])\n",
    "    i += 1"
   ]
  },
  {
   "cell_type": "markdown",
   "metadata": {},
   "source": [
    "c) Generate a list using list comprehensions, which contains all numbers from 0 to\n",
    "some value. Your list should contain 10 elements overall, which are the squares of\n",
    "the list in (a). Do not use ”normal”-loops, but list-comprehensions in this task!\n"
   ]
  },
  {
   "cell_type": "markdown",
   "metadata": {},
   "source": [
    "*** In this question, it is obvious that you want the square of 0 to 10, but it is a little bit tricky. It can be a little bit easier, but if the reason is to be confused by the question..."
   ]
  },
  {
   "cell_type": "code",
   "execution_count": 55,
   "metadata": {},
   "outputs": [
    {
     "name": "stdout",
     "output_type": "stream",
     "text": [
      "[0, 1, 4, 9, 16, 25, 36, 49, 64, 81, 100]\n"
     ]
    }
   ],
   "source": [
    "squares = [n * n for n in range(11)]\n",
    "print (squares)"
   ]
  },
  {
   "cell_type": "markdown",
   "metadata": {},
   "source": [
    "d) Write a function which takes an integer n as input. The function first creates a list\n",
    "of numbers from 0 to n. Then square each number of the list. Further each of the\n",
    "squared numbers is tested, if it is odd. All odd numbers are then appended to a\n",
    "new list. The function returns the list of odd (squared) numbers.\n",
    "\n"
   ]
  },
  {
   "cell_type": "markdown",
   "metadata": {},
   "source": [
    "Write a function that takes an integer n as an input. The function first creates a list of numbers from 0 to n. Then squares each number of the list and also checks if the squered number is odd. At the end it returns the list of odd numbers."
   ]
  },
  {
   "cell_type": "code",
   "execution_count": 64,
   "metadata": {},
   "outputs": [
    {
     "data": {
      "text/plain": [
       "[1, 9, 25, 49, 81]"
      ]
     },
     "execution_count": 64,
     "metadata": {},
     "output_type": "execute_result"
    }
   ],
   "source": [
    "def listCreator(n):\n",
    "    list1 = list(range(n+1))\n",
    "    list2 = []\n",
    "    for n in list1:\n",
    "        square = n * n\n",
    "        if square % 2 > 0:\n",
    "            list2.append(square)\n",
    "    return list2       \n",
    "listCreator(10)        "
   ]
  },
  {
   "cell_type": "markdown",
   "metadata": {},
   "source": [
    "## Task 2"
   ]
  },
  {
   "cell_type": "markdown",
   "metadata": {},
   "source": [
    "In this task, we will practise data structures with copys and dictionaries. Again write\n",
    "your solution code in a .txt file. Answer questions in any document-software you want to\n",
    "use and format it into .pdf!\n"
   ]
  },
  {
   "cell_type": "markdown",
   "metadata": {},
   "source": [
    "\n",
    "About the question that is neaded to be explaned, please use any document-software and export your answer as PDF.  "
   ]
  },
  {
   "cell_type": "markdown",
   "metadata": {},
   "source": [
    "a) Given a list a = [”I”, ”like”, ”cookies”] and another list b = a. Replace in the list b the element ”cookies” with ”apples”. Finally print both lists (a and b). What do you observe? What leads to the observed behavior?"
   ]
  },
  {
   "cell_type": "code",
   "execution_count": 118,
   "metadata": {},
   "outputs": [
    {
     "name": "stdout",
     "output_type": "stream",
     "text": [
      "['I', 'like', 'apples'] ['I', 'like', 'apples']\n",
      "139623146653808 139623146653808\n"
     ]
    }
   ],
   "source": [
    "favoriteList = ['I', 'like', 'cookies']\n",
    "favoriteList2 = favoriteList\n",
    "favoriteList2[2] = \"apples\"\n",
    "print(favoriteList, favoriteList2)\n",
    "print(id(favoriteList), id(favoriteList2))"
   ]
  },
  {
   "cell_type": "markdown",
   "metadata": {},
   "source": [
    "Python is an object-oriented language, so everything is an object. As a result, when you assign something, it will assign every property of one to the other, even the memory addresses. It means you do not make a copy. You address the list to a new one and both of them are same object."
   ]
  },
  {
   "cell_type": "markdown",
   "metadata": {},
   "source": [
    "(b) Given a list a = [”I”, ”like”, ”cookies”] and another list which takes a shallow copy of a: b = a[:]. Like in the previous task (a), replace in the list b the element ”cookies” with ”apples”. Finally print both lists (a and b). What do you observe now?"
   ]
  },
  {
   "cell_type": "markdown",
   "metadata": {},
   "source": [
    "(b) Given a list a = [”I”, ”like”, ”cookies”] and make shallow copy of it in to b. As we did before, replace the new list third item with ”apples”. Finally print both lists (a and b). What do you observe now? (syntax of shallow copy is b = a[:] or b = a.copy())"
   ]
  },
  {
   "cell_type": "code",
   "execution_count": 121,
   "metadata": {},
   "outputs": [
    {
     "name": "stdout",
     "output_type": "stream",
     "text": [
      "['I', 'like', 'cookies'] ['I', 'like', 'apples']\n",
      "139623146714928 139623146995792\n"
     ]
    }
   ],
   "source": [
    "a = ['I', 'like', 'cookies']\n",
    "b = a[:]\n",
    "b[2] = \"apples\"\n",
    "print(a, b)\n",
    "print(id(a[2]), id(b[2]))"
   ]
  },
  {
   "cell_type": "markdown",
   "metadata": {},
   "source": [
    "with using Slicing or .copy() function we make a new object from our old one with new memory address."
   ]
  },
  {
   "cell_type": "markdown",
   "metadata": {},
   "source": [
    "(c) Now we are given a list a = [”I”, ”like”, [”chocolate”, ”cookies”]] and another list which takes a shallow copy of a(b = a[:]). Change now the element ”cookies” with ”apples” in b. Now print again both lists (a and b). What do you observe? What leads to the observed behavior?"
   ]
  },
  {
   "cell_type": "code",
   "execution_count": 123,
   "metadata": {},
   "outputs": [
    {
     "name": "stdout",
     "output_type": "stream",
     "text": [
      "['I', 'like', ['chocolate', 'apples']] ['I', 'like', ['chocolate', 'apples']]\n"
     ]
    }
   ],
   "source": [
    "a = ['I', 'like', ['chocolate', 'cookies']]\n",
    "b = a[:]\n",
    "b[2][1] = 'apples'\n",
    "print(a, b)"
   ]
  },
  {
   "cell_type": "markdown",
   "metadata": {},
   "source": [
    "A shallow copy, as it is evident from the meaning of its name, only copy the first layer of the object and does not work for an object which contains another object in it. It only addresses the inner object."
   ]
  },
  {
   "cell_type": "markdown",
   "metadata": {},
   "source": [
    "(d) Like in the previous task, we are given a list a =\n",
    "[”I”, ”like”, [”chocolate”, ”cookies”]]. Another list b = deepcopy(a) takes a\n",
    "deep copy from a. Now change the element ”cookies” with ”apples” in b. Print\n",
    "both lists (a and b). What do you observe now?\n",
    "Hint: For deep copy, first type: from copy import deepcopy in the head of your\n",
    "python-file."
   ]
  },
  {
   "cell_type": "code",
   "execution_count": 124,
   "metadata": {},
   "outputs": [
    {
     "name": "stdout",
     "output_type": "stream",
     "text": [
      "['I', 'like', ['chocolate', 'cookies']] ['I', 'like', ['chocolate', 'apples']]\n"
     ]
    }
   ],
   "source": [
    "a = ['I', 'like', ['chocolate', 'cookies']]\n",
    "b = deepcopy(a)\n",
    "b[2][1] = 'apples'\n",
    "print(a, b)"
   ]
  },
  {
   "cell_type": "markdown",
   "metadata": {},
   "source": [
    "deapcopy constructs a new object from our inner object(compound object) and assing all the properties to the new one. deapcopy copy everything even too much, such as data which is intended to be shared between copies."
   ]
  },
  {
   "cell_type": "markdown",
   "metadata": {},
   "source": [
    "(e) Create a dictionary with n entries, where the keys are enumerated from 0 to n − 1\n",
    "and the values are their corresponding keys squared. Use list comprehensions!\n",
    "Example for the expected result: n = 7: {0:0, 1:1, 2:4, 3:9, 4:16, 5:25, 6:26} "
   ]
  },
  {
   "cell_type": "code",
   "execution_count": null,
   "metadata": {},
   "outputs": [],
   "source": [
    "#The last item of the question example should change to 36 it is now 26 \n",
    "{0:0, 1:1, 2:4, 3:9, 4:16, 5:25, 6:36}"
   ]
  },
  {
   "cell_type": "code",
   "execution_count": 5,
   "metadata": {},
   "outputs": [
    {
     "name": "stdout",
     "output_type": "stream",
     "text": [
      "{'0': 0, '1': 1, '2': 4, '3': 9, '4': 16, '5': 25, '6': 36}\n"
     ]
    }
   ],
   "source": [
    "dict1 = {'0':0, '1': 1, '2': 2, '3': 3, '4': 4, '5': 5, '6':6}\n",
    "squareDict1 = {k:v**2 for (k,v) in dict1.items()}\n",
    "print(squareDict1)"
   ]
  },
  {
   "cell_type": "markdown",
   "metadata": {},
   "source": [
    "(f) Use the dictionary from (e). Write a list comprehension to get a list of all the keys\n",
    "of the dictionary."
   ]
  },
  {
   "cell_type": "code",
   "execution_count": 6,
   "metadata": {},
   "outputs": [
    {
     "ename": "TypeError",
     "evalue": "unsupported operand type(s) for ** or pow(): 'str' and 'int'",
     "output_type": "error",
     "traceback": [
      "\u001b[0;31m---------------------------------------------------------------------\u001b[0m",
      "\u001b[0;31mTypeError\u001b[0m                           Traceback (most recent call last)",
      "\u001b[0;32m<ipython-input-6-97b21e7efad7>\u001b[0m in \u001b[0;36m<module>\u001b[0;34m\u001b[0m\n\u001b[0;32m----> 1\u001b[0;31m \u001b[0mlistOfKeys\u001b[0m \u001b[0;34m=\u001b[0m \u001b[0;34m[\u001b[0m\u001b[0mkey\u001b[0m\u001b[0;34m**\u001b[0m\u001b[0;36m2\u001b[0m \u001b[0;32mfor\u001b[0m \u001b[0;34m(\u001b[0m\u001b[0mkey\u001b[0m\u001b[0;34m,\u001b[0m \u001b[0mvalue\u001b[0m\u001b[0;34m)\u001b[0m \u001b[0;32min\u001b[0m \u001b[0mdict1\u001b[0m\u001b[0;34m.\u001b[0m\u001b[0mitems\u001b[0m\u001b[0;34m(\u001b[0m\u001b[0;34m)\u001b[0m \u001b[0;34m]\u001b[0m\u001b[0;34m\u001b[0m\u001b[0;34m\u001b[0m\u001b[0m\n\u001b[0m\u001b[1;32m      2\u001b[0m \u001b[0mprint\u001b[0m\u001b[0;34m(\u001b[0m\u001b[0mlistOfKeys\u001b[0m\u001b[0;34m)\u001b[0m\u001b[0;34m\u001b[0m\u001b[0;34m\u001b[0m\u001b[0m\n",
      "\u001b[0;32m<ipython-input-6-97b21e7efad7>\u001b[0m in \u001b[0;36m<listcomp>\u001b[0;34m(.0)\u001b[0m\n\u001b[0;32m----> 1\u001b[0;31m \u001b[0mlistOfKeys\u001b[0m \u001b[0;34m=\u001b[0m \u001b[0;34m[\u001b[0m\u001b[0mkey\u001b[0m\u001b[0;34m**\u001b[0m\u001b[0;36m2\u001b[0m \u001b[0;32mfor\u001b[0m \u001b[0;34m(\u001b[0m\u001b[0mkey\u001b[0m\u001b[0;34m,\u001b[0m \u001b[0mvalue\u001b[0m\u001b[0;34m)\u001b[0m \u001b[0;32min\u001b[0m \u001b[0mdict1\u001b[0m\u001b[0;34m.\u001b[0m\u001b[0mitems\u001b[0m\u001b[0;34m(\u001b[0m\u001b[0;34m)\u001b[0m \u001b[0;34m]\u001b[0m\u001b[0;34m\u001b[0m\u001b[0;34m\u001b[0m\u001b[0m\n\u001b[0m\u001b[1;32m      2\u001b[0m \u001b[0mprint\u001b[0m\u001b[0;34m(\u001b[0m\u001b[0mlistOfKeys\u001b[0m\u001b[0;34m)\u001b[0m\u001b[0;34m\u001b[0m\u001b[0;34m\u001b[0m\u001b[0m\n",
      "\u001b[0;31mTypeError\u001b[0m: unsupported operand type(s) for ** or pow(): 'str' and 'int'"
     ]
    }
   ],
   "source": [
    "listOfKeys = [key for (key, value) in dict1.items() ]\n",
    "print(listOfKeys)"
   ]
  },
  {
   "cell_type": "markdown",
   "metadata": {},
   "source": [
    "## Task 3"
   ]
  },
  {
   "cell_type": "markdown",
   "metadata": {},
   "source": [
    "In the last task of this assignment, we will use lambda functions and the map, filter and\n",
    "reduce paradigms of functional programming. For more information and tutorials, you\n",
    "may want to visit e.g. https://www.learnpython.org/en/Map%2C_Filter%2C_Reduce.\n",
    "Again write your solutions into a .txt file."
   ]
  },
  {
   "cell_type": "code",
   "execution_count": 134,
   "metadata": {},
   "outputs": [
    {
     "name": "stdout",
     "output_type": "stream",
     "text": [
      "[0, 2, 4, 6, 8, 10]\n"
     ]
    }
   ],
   "source": [
    "Evennumbers  =  lambda x: x%2 == 0\n",
    "list1 = [x for x in range(11) if Evennumbers(x)]\n",
    "print(list1)"
   ]
  },
  {
   "cell_type": "code",
   "execution_count": 8,
   "metadata": {},
   "outputs": [
    {
     "name": "stdout",
     "output_type": "stream",
     "text": [
      "Please enter an integer : 100\n",
      "[0, 2, 4, 6, 8, 10, 12, 14, 16, 18, 20, 22, 24, 26, 28, 30, 32, 34, 36, 38, 40, 42, 44, 46, 48, 50, 52, 54, 56, 58, 60, 62, 64, 66, 68, 70, 72, 74, 76, 78, 80, 82, 84, 86, 88, 90, 92, 94, 96, 98, 100]\n"
     ]
    }
   ],
   "source": [
    "n = int(input('Please enter an integer : '))\n",
    "result = list(filter(lambda x: x%2==0, range(n+1)))\n",
    "print(result)"
   ]
  },
  {
   "cell_type": "markdown",
   "metadata": {},
   "source": [
    "(a) Write a list comprehension which takes a number n and returns a list with even numbers, using a lambda function."
   ]
  },
  {
   "cell_type": "code",
   "execution_count": 106,
   "metadata": {},
   "outputs": [
    {
     "data": {
      "text/plain": [
       "[0, 2, 4, 6, 8, 10]"
      ]
     },
     "execution_count": 106,
     "metadata": {},
     "output_type": "execute_result"
    }
   ],
   "source": [
    "def evenNumber(n):\n",
    "    return list(filter(lambda a: a%2==0, range(n+1)))\n",
    "oddNumber(10)\n"
   ]
  },
  {
   "cell_type": "code",
   "execution_count": 2,
   "metadata": {},
   "outputs": [
    {
     "data": {
      "text/plain": [
       "[0, 2, 4, 6, 8, 10]"
      ]
     },
     "execution_count": 2,
     "metadata": {},
     "output_type": "execute_result"
    }
   ],
   "source": [
    "def evenListMaker(n):\n",
    "    return [a for a in list(range(n+1)) if (lambda a: a % 2 == 0)(a)]\n",
    "evenListMaker(10)"
   ]
  },
  {
   "cell_type": "code",
   "execution_count": 108,
   "metadata": {},
   "outputs": [
    {
     "name": "stdout",
     "output_type": "stream",
     "text": [
      "[0, 1, 4, 9, 16, 25, 36, 49, 64, 81, 100]\n"
     ]
    }
   ],
   "source": [
    "listSquireNum = [(lambda n: n*n)(n) for n in range(11)]\n",
    "print(listSquireNum)\n",
    "               "
   ]
  },
  {
   "cell_type": "markdown",
   "metadata": {},
   "source": [
    "(b) First write a function which takes a length in inch and returns a length in cm. Given\n",
    "a list l with lengths in inches: l = [4, 4.5, 5, 5.5; 6, 7]. Write a list comprehension\n",
    "which takes l and returns a list with all values converted to cm using map."
   ]
  },
  {
   "cell_type": "code",
   "execution_count": 9,
   "metadata": {},
   "outputs": [
    {
     "name": "stdout",
     "output_type": "stream",
     "text": [
      "[9.8, 11.025, 12.25, 13.475, 14.7, 17.15]\n"
     ]
    }
   ],
   "source": [
    "inchToCm = lambda n: round(n * 2.45, 3)\n",
    "l = [4, 4.5, 5, 5.5, 6, 7]\n",
    "lengthList = list(map(inchToCm, l))\n",
    "print(lengthList)"
   ]
  },
  {
   "cell_type": "code",
   "execution_count": null,
   "metadata": {},
   "outputs": [],
   "source": [
    "x = lambda n: n*2.45"
   ]
  },
  {
   "cell_type": "markdown",
   "metadata": {},
   "source": [
    "(c) Write a list comprehension which filters the list l from (b) by returning only sizes\n",
    "between 4 and 6 inches. Use filter for this!"
   ]
  },
  {
   "cell_type": "code",
   "execution_count": 10,
   "metadata": {},
   "outputs": [
    {
     "name": "stdout",
     "output_type": "stream",
     "text": [
      "[4, 4.5, 5, 5.5, 6]\n"
     ]
    }
   ],
   "source": [
    "filterList = list(filter(lambda n: n >= 4 and n <=6, l))\n",
    "print(filterList)"
   ]
  },
  {
   "cell_type": "markdown",
   "metadata": {},
   "source": [
    "(d) Write a list comprehension which reduces the list l by summing up all lengths."
   ]
  },
  {
   "cell_type": "code",
   "execution_count": 19,
   "metadata": {},
   "outputs": [
    {
     "name": "stdout",
     "output_type": "stream",
     "text": [
      "32.0\n"
     ]
    }
   ],
   "source": [
    "reducedList = reduce(lambda x, y: x+y, l)\n",
    "print(reducedList)"
   ]
  },
  {
   "cell_type": "markdown",
   "metadata": {},
   "source": [
    "# Task 4"
   ]
  },
  {
   "cell_type": "markdown",
   "metadata": {},
   "source": [
    "Read the .csv-file as a DataFrame for further processing using pandas.read csv().\n",
    "Afterwards inspect the read .csv-file using .shape, .columns, .info and .describe().\n",
    "Lastly display the first five records of the data-set using .head(5) and the last five\n",
    "records using .tail(5)."
   ]
  },
  {
   "cell_type": "code",
   "execution_count": 13,
   "metadata": {},
   "outputs": [],
   "source": [
    "import pandas as pd\n",
    "import matplotlib"
   ]
  },
  {
   "cell_type": "code",
   "execution_count": 14,
   "metadata": {},
   "outputs": [
    {
     "name": "stdout",
     "output_type": "stream",
     "text": [
      "(5043, 28) Index(['color', 'director_name', 'num_critic_for_reviews', 'duration',\n",
      "       'director_facebook_likes', 'actor_3_facebook_likes', 'actor_2_name',\n",
      "       'actor_1_facebook_likes', 'gross', 'genres', 'actor_1_name',\n",
      "       'movie_title', 'num_voted_users', 'cast_total_facebook_likes',\n",
      "       'actor_3_name', 'facenumber_in_poster', 'plot_keywords',\n",
      "       'movie_imdb_link', 'num_user_for_reviews', 'language', 'country',\n",
      "       'content_rating', 'budget', 'title_year', 'actor_2_facebook_likes',\n",
      "       'imdb_score', 'aspect_ratio', 'movie_facebook_likes'],\n",
      "      dtype='object') <bound method DataFrame.info of       color      director_name  num_critic_for_reviews  duration  \\\n",
      "0     Color      James Cameron                   723.0     178.0   \n",
      "1     Color     Gore Verbinski                   302.0     169.0   \n",
      "2     Color         Sam Mendes                   602.0     148.0   \n",
      "3     Color  Christopher Nolan                   813.0     164.0   \n",
      "4       NaN        Doug Walker                     NaN       NaN   \n",
      "...     ...                ...                     ...       ...   \n",
      "5038  Color        Scott Smith                     1.0      87.0   \n",
      "5039  Color                NaN                    43.0      43.0   \n",
      "5040  Color   Benjamin Roberds                    13.0      76.0   \n",
      "5041  Color        Daniel Hsia                    14.0     100.0   \n",
      "5042  Color           Jon Gunn                    43.0      90.0   \n",
      "\n",
      "      director_facebook_likes  actor_3_facebook_likes      actor_2_name  \\\n",
      "0                         0.0                   855.0  Joel David Moore   \n",
      "1                       563.0                  1000.0     Orlando Bloom   \n",
      "2                         0.0                   161.0      Rory Kinnear   \n",
      "3                     22000.0                 23000.0    Christian Bale   \n",
      "4                       131.0                     NaN        Rob Walker   \n",
      "...                       ...                     ...               ...   \n",
      "5038                      2.0                   318.0     Daphne Zuniga   \n",
      "5039                      NaN                   319.0     Valorie Curry   \n",
      "5040                      0.0                     0.0     Maxwell Moody   \n",
      "5041                      0.0                   489.0     Daniel Henney   \n",
      "5042                     16.0                    16.0  Brian Herzlinger   \n",
      "\n",
      "      actor_1_facebook_likes        gross                           genres  \\\n",
      "0                     1000.0  760505847.0  Action|Adventure|Fantasy|Sci-Fi   \n",
      "1                    40000.0  309404152.0         Action|Adventure|Fantasy   \n",
      "2                    11000.0  200074175.0        Action|Adventure|Thriller   \n",
      "3                    27000.0  448130642.0                  Action|Thriller   \n",
      "4                      131.0          NaN                      Documentary   \n",
      "...                      ...          ...                              ...   \n",
      "5038                   637.0          NaN                     Comedy|Drama   \n",
      "5039                   841.0          NaN     Crime|Drama|Mystery|Thriller   \n",
      "5040                     0.0          NaN            Drama|Horror|Thriller   \n",
      "5041                   946.0      10443.0             Comedy|Drama|Romance   \n",
      "5042                    86.0      85222.0                      Documentary   \n",
      "\n",
      "      ... num_user_for_reviews language  country  content_rating       budget  \\\n",
      "0     ...               3054.0  English      USA           PG-13  237000000.0   \n",
      "1     ...               1238.0  English      USA           PG-13  300000000.0   \n",
      "2     ...                994.0  English       UK           PG-13  245000000.0   \n",
      "3     ...               2701.0  English      USA           PG-13  250000000.0   \n",
      "4     ...                  NaN      NaN      NaN             NaN          NaN   \n",
      "...   ...                  ...      ...      ...             ...          ...   \n",
      "5038  ...                  6.0  English   Canada             NaN          NaN   \n",
      "5039  ...                359.0  English      USA           TV-14          NaN   \n",
      "5040  ...                  3.0  English      USA             NaN       1400.0   \n",
      "5041  ...                  9.0  English      USA           PG-13          NaN   \n",
      "5042  ...                 84.0  English      USA              PG       1100.0   \n",
      "\n",
      "      title_year actor_2_facebook_likes imdb_score  aspect_ratio  \\\n",
      "0         2009.0                  936.0        7.9          1.78   \n",
      "1         2007.0                 5000.0        7.1          2.35   \n",
      "2         2015.0                  393.0        6.8          2.35   \n",
      "3         2012.0                23000.0        8.5          2.35   \n",
      "4            NaN                   12.0        7.1           NaN   \n",
      "...          ...                    ...        ...           ...   \n",
      "5038      2013.0                  470.0        7.7           NaN   \n",
      "5039         NaN                  593.0        7.5         16.00   \n",
      "5040      2013.0                    0.0        6.3           NaN   \n",
      "5041      2012.0                  719.0        6.3          2.35   \n",
      "5042      2004.0                   23.0        6.6          1.85   \n",
      "\n",
      "     movie_facebook_likes  \n",
      "0                   33000  \n",
      "1                       0  \n",
      "2                   85000  \n",
      "3                  164000  \n",
      "4                       0  \n",
      "...                   ...  \n",
      "5038                   84  \n",
      "5039                32000  \n",
      "5040                   16  \n",
      "5041                  660  \n",
      "5042                  456  \n",
      "\n",
      "[5043 rows x 28 columns]>\n",
      "   color      director_name  num_critic_for_reviews  duration  \\\n",
      "0  Color      James Cameron                   723.0     178.0   \n",
      "1  Color     Gore Verbinski                   302.0     169.0   \n",
      "2  Color         Sam Mendes                   602.0     148.0   \n",
      "3  Color  Christopher Nolan                   813.0     164.0   \n",
      "4    NaN        Doug Walker                     NaN       NaN   \n",
      "\n",
      "   director_facebook_likes  actor_3_facebook_likes      actor_2_name  \\\n",
      "0                      0.0                   855.0  Joel David Moore   \n",
      "1                    563.0                  1000.0     Orlando Bloom   \n",
      "2                      0.0                   161.0      Rory Kinnear   \n",
      "3                  22000.0                 23000.0    Christian Bale   \n",
      "4                    131.0                     NaN        Rob Walker   \n",
      "\n",
      "   actor_1_facebook_likes        gross                           genres  ...  \\\n",
      "0                  1000.0  760505847.0  Action|Adventure|Fantasy|Sci-Fi  ...   \n",
      "1                 40000.0  309404152.0         Action|Adventure|Fantasy  ...   \n",
      "2                 11000.0  200074175.0        Action|Adventure|Thriller  ...   \n",
      "3                 27000.0  448130642.0                  Action|Thriller  ...   \n",
      "4                   131.0          NaN                      Documentary  ...   \n",
      "\n",
      "  num_user_for_reviews language  country  content_rating       budget  \\\n",
      "0               3054.0  English      USA           PG-13  237000000.0   \n",
      "1               1238.0  English      USA           PG-13  300000000.0   \n",
      "2                994.0  English       UK           PG-13  245000000.0   \n",
      "3               2701.0  English      USA           PG-13  250000000.0   \n",
      "4                  NaN      NaN      NaN             NaN          NaN   \n",
      "\n",
      "   title_year actor_2_facebook_likes imdb_score  aspect_ratio  \\\n",
      "0      2009.0                  936.0        7.9          1.78   \n",
      "1      2007.0                 5000.0        7.1          2.35   \n",
      "2      2015.0                  393.0        6.8          2.35   \n",
      "3      2012.0                23000.0        8.5          2.35   \n",
      "4         NaN                   12.0        7.1           NaN   \n",
      "\n",
      "  movie_facebook_likes  \n",
      "0                33000  \n",
      "1                    0  \n",
      "2                85000  \n",
      "3               164000  \n",
      "4                    0  \n",
      "\n",
      "[5 rows x 28 columns]       color     director_name  num_critic_for_reviews  duration  \\\n",
      "5038  Color       Scott Smith                     1.0      87.0   \n",
      "5039  Color               NaN                    43.0      43.0   \n",
      "5040  Color  Benjamin Roberds                    13.0      76.0   \n",
      "5041  Color       Daniel Hsia                    14.0     100.0   \n",
      "5042  Color          Jon Gunn                    43.0      90.0   \n",
      "\n",
      "      director_facebook_likes  actor_3_facebook_likes      actor_2_name  \\\n",
      "5038                      2.0                   318.0     Daphne Zuniga   \n",
      "5039                      NaN                   319.0     Valorie Curry   \n",
      "5040                      0.0                     0.0     Maxwell Moody   \n",
      "5041                      0.0                   489.0     Daniel Henney   \n",
      "5042                     16.0                    16.0  Brian Herzlinger   \n",
      "\n",
      "      actor_1_facebook_likes    gross                        genres  ...  \\\n",
      "5038                   637.0      NaN                  Comedy|Drama  ...   \n",
      "5039                   841.0      NaN  Crime|Drama|Mystery|Thriller  ...   \n",
      "5040                     0.0      NaN         Drama|Horror|Thriller  ...   \n",
      "5041                   946.0  10443.0          Comedy|Drama|Romance  ...   \n",
      "5042                    86.0  85222.0                   Documentary  ...   \n",
      "\n",
      "     num_user_for_reviews language  country  content_rating  budget  \\\n",
      "5038                  6.0  English   Canada             NaN     NaN   \n",
      "5039                359.0  English      USA           TV-14     NaN   \n",
      "5040                  3.0  English      USA             NaN  1400.0   \n",
      "5041                  9.0  English      USA           PG-13     NaN   \n",
      "5042                 84.0  English      USA              PG  1100.0   \n",
      "\n",
      "      title_year actor_2_facebook_likes imdb_score  aspect_ratio  \\\n",
      "5038      2013.0                  470.0        7.7           NaN   \n",
      "5039         NaN                  593.0        7.5         16.00   \n",
      "5040      2013.0                    0.0        6.3           NaN   \n",
      "5041      2012.0                  719.0        6.3          2.35   \n",
      "5042      2004.0                   23.0        6.6          1.85   \n",
      "\n",
      "     movie_facebook_likes  \n",
      "5038                   84  \n",
      "5039                32000  \n",
      "5040                   16  \n",
      "5041                  660  \n",
      "5042                  456  \n",
      "\n",
      "[5 rows x 28 columns]\n"
     ]
    }
   ],
   "source": [
    "movies = pd.read_csv('moviedata.csv')\n",
    "print(movies.shape, movies.columns, movies.info)\n",
    "movies.describe()\n",
    "print(movies.head(5), movies.tail(5))"
   ]
  },
  {
   "cell_type": "markdown",
   "metadata": {},
   "source": [
    "(b) Select the first five records from the data set, but those records shall only contain\n",
    "the following columns in your output: movie title, duration and num voted users.\n",
    "Write the code, which archives this output."
   ]
  },
  {
   "cell_type": "code",
   "execution_count": 115,
   "metadata": {},
   "outputs": [
    {
     "name": "stdout",
     "output_type": "stream",
     "text": [
      "   duration                                        movie_title  \\\n",
      "0     178.0                                            Avatar    \n",
      "1     169.0          Pirates of the Caribbean: At World's End    \n",
      "2     148.0                                           Spectre    \n",
      "3     164.0                             The Dark Knight Rises    \n",
      "4       NaN  Star Wars: Episode VII - The Force Awakens    ...   \n",
      "\n",
      "   num_voted_users  \n",
      "0           886204  \n",
      "1           471220  \n",
      "2           275868  \n",
      "3          1144337  \n",
      "4                8  \n"
     ]
    }
   ],
   "source": [
    "firstFiveColumn = movies[['duration', 'movie_title', 'num_voted_users']].head(5)\n",
    "firstFiveColumn.describe()\n",
    "print(firstFiveColumn)"
   ]
  },
  {
   "cell_type": "markdown",
   "metadata": {},
   "source": [
    "(c) Select the first five movies containing the genre ”Action”. Display only the columns\n",
    "”movie”, ”title” and ”genres”."
   ]
  },
  {
   "cell_type": "code",
   "execution_count": 116,
   "metadata": {},
   "outputs": [
    {
     "name": "stdout",
     "output_type": "stream",
     "text": [
      "                                 movie_title                           genres\n",
      "0                                    Avatar   Action|Adventure|Fantasy|Sci-Fi\n",
      "1  Pirates of the Caribbean: At World's End          Action|Adventure|Fantasy\n",
      "2                                   Spectre         Action|Adventure|Thriller\n",
      "3                     The Dark Knight Rises                   Action|Thriller\n",
      "5                               John Carter           Action|Adventure|Sci-Fi\n"
     ]
    }
   ],
   "source": [
    "#firstFiveAction = movies[['movie_title', 'genres']]\n",
    "moviesGenres = movies.filter(['movie_title', 'genres'])\n",
    "\n",
    "actionsMovie = moviesGenres[moviesGenres['genres'].str.contains('Action')]\n",
    "print(actionsMovie.head(5))"
   ]
  },
  {
   "cell_type": "markdown",
   "metadata": {},
   "source": [
    "(d) Sort the action movies by their imdb score and display the names and scores of the\n",
    "top-10 scored movies."
   ]
  },
  {
   "cell_type": "code",
   "execution_count": 59,
   "metadata": {},
   "outputs": [
    {
     "name": "stdout",
     "output_type": "stream",
     "text": [
      "                        movie_title  imdb_score\n",
      "2765  Towering Inferno                      9.5\n",
      "1937      The Shawshank Redemption          9.3\n",
      "3466                 The Godfather          9.2\n",
      "3207           Dekalog                      9.1\n",
      "4409          Kickboxer: Vengeance          9.1\n",
      "2824           Dekalog                      9.1\n",
      "66                 The Dark Knight          9.0\n",
      "2837        The Godfather: Part II          9.0\n",
      "3481             Fargo                      9.0\n",
      "1874              Schindler's List          8.9\n"
     ]
    }
   ],
   "source": [
    "ratedMovies = movies.sort_values(by=['imdb_score'], ascending=False)\n",
    "print(ratedMovies[['movie_title', 'imdb_score']].head(10))"
   ]
  },
  {
   "cell_type": "markdown",
   "metadata": {},
   "source": [
    "(e) Group the movies by column director and display the top-10 directors with the\n",
    "highest mean gross of their movies."
   ]
  },
  {
   "cell_type": "code",
   "execution_count": 21,
   "metadata": {},
   "outputs": [
    {
     "name": "stdout",
     "output_type": "stream",
     "text": [
      "                        gross\n",
      "director_name                \n",
      "Joss Whedon     432,721,657.0\n",
      "Lee Unkrich     414,984,497.0\n",
      "Chris Buck      400,736,600.0\n",
      "Tim Miller      363,024,263.0\n",
      "George Lucas    348,283,696.0\n",
      "Kyle Balda      336,029,560.0\n",
      "Colin Trevorrow 328,092,531.5\n",
      "Yarrow Cheney   323,505,540.0\n",
      "Pete Docter     313,113,780.3\n",
      "Pierre Coffin   309,775,640.0\n"
     ]
    }
   ],
   "source": [
    "pd.options.display.float_format = '{:,.1f}'.format\n",
    "noNan = movies[movies.gross.notnull()]\n",
    "directors = noNan.groupby(['director_name']).mean()\n",
    "bestSeller = directors.sort_values(by = ['gross'], ascending=False )\n",
    "print(bestSeller[['gross']].head(10))\n"
   ]
  },
  {
   "cell_type": "markdown",
   "metadata": {},
   "source": [
    "(f) Delete all rows, which contain at least one missing value. Visualize parts of the data\n",
    "using pandas:plotting:scatter matrix and DataFrameGroupBy:hist."
   ]
  },
  {
   "cell_type": "code",
   "execution_count": 22,
   "metadata": {
    "scrolled": true
   },
   "outputs": [
    {
     "data": {
      "text/plain": [
       "array([[<matplotlib.axes._subplots.AxesSubplot object at 0x7f86f7c2d9d0>,\n",
       "        <matplotlib.axes._subplots.AxesSubplot object at 0x7f86f68c1550>,\n",
       "        <matplotlib.axes._subplots.AxesSubplot object at 0x7f86f6874d50>,\n",
       "        <matplotlib.axes._subplots.AxesSubplot object at 0x7f86f6835590>],\n",
       "       [<matplotlib.axes._subplots.AxesSubplot object at 0x7f86f67e7d90>,\n",
       "        <matplotlib.axes._subplots.AxesSubplot object at 0x7f86f67a85d0>,\n",
       "        <matplotlib.axes._subplots.AxesSubplot object at 0x7f86f6767390>,\n",
       "        <matplotlib.axes._subplots.AxesSubplot object at 0x7f86f671b610>],\n",
       "       [<matplotlib.axes._subplots.AxesSubplot object at 0x7f86f6726810>,\n",
       "        <matplotlib.axes._subplots.AxesSubplot object at 0x7f86f66e8190>,\n",
       "        <matplotlib.axes._subplots.AxesSubplot object at 0x7f86f66c4e50>,\n",
       "        <matplotlib.axes._subplots.AxesSubplot object at 0x7f86f6687690>],\n",
       "       [<matplotlib.axes._subplots.AxesSubplot object at 0x7f86f663ae90>,\n",
       "        <matplotlib.axes._subplots.AxesSubplot object at 0x7f86f65fa6d0>,\n",
       "        <matplotlib.axes._subplots.AxesSubplot object at 0x7f86f65aded0>,\n",
       "        <matplotlib.axes._subplots.AxesSubplot object at 0x7f86f656e710>]],\n",
       "      dtype=object)"
      ]
     },
     "execution_count": 22,
     "metadata": {},
     "output_type": "execute_result"
    },
    {
     "data": {
      "image/png": "[encoded data removed]",
      "text/plain": [
       "<Figure size 432x288 with 1 Axes>"
      ]
     },
     "metadata": {
      "needs_background": "light"
     },
     "output_type": "display_data"
    },
    {
     "data": {
      "image/png": "[encoded data removed]",
      "text/plain": [
       "<Figure size 432x288 with 16 Axes>"
      ]
     },
     "metadata": {
      "needs_background": "light"
     },
     "output_type": "display_data"
    }
   ],
   "source": [
    "na = movies.dropna()\n",
    "na.shape\n",
    "na.hist(['gross'])\n",
    "pd.plotting.scatter_matrix(na[['gross','duration','num_critic_for_reviews','imdb_score']])"
   ]
  },
  {
   "cell_type": "code",
   "execution_count": 16,
   "metadata": {},
   "outputs": [
    {
     "name": "stdout",
     "output_type": "stream",
     "text": [
      "Fiedler fuck you...! Fiedler fuck you...! Fiedler fuck you...! Fiedler fuck you...! Fiedler fuck you...! Fiedler fuck you...! Fiedler fuck you...! Fiedler fuck you...! Fiedler fuck you...! Fiedler fuck you...! Fiedler fuck you...! "
     ]
    }
   ],
   "source": [
    "for n in range(11):\n",
    "    print('Fiedler', end = \" fuck you...! \")"
   ]
  },
  {
   "cell_type": "code",
   "execution_count": 109,
   "metadata": {},
   "outputs": [
    {
     "ename": "SyntaxError",
     "evalue": "invalid syntax (<ipython-input-109-df092039c5ac>, line 2)",
     "output_type": "error",
     "traceback": [
      "\u001b[0;36m  File \u001b[0;32m\"<ipython-input-109-df092039c5ac>\"\u001b[0;36m, line \u001b[0;32m2\u001b[0m\n\u001b[0;31m    result = list(filter(lambda x: x%2 ==0 range(n))\u001b[0m\n\u001b[0m                                               ^\u001b[0m\n\u001b[0;31mSyntaxError\u001b[0m\u001b[0;31m:\u001b[0m invalid syntax\n"
     ]
    }
   ],
   "source": []
  },
  {
   "cell_type": "code",
   "execution_count": null,
   "metadata": {},
   "outputs": [],
   "source": []
  }
 ],
 "metadata": {
  "kernelspec": {
   "display_name": "Python 3",
   "language": "python",
   "name": "python3"
  },
  "language_info": {
   "codemirror_mode": {
    "name": "ipython",
    "version": 3
   },
   "file_extension": ".py",
   "mimetype": "text/x-python",
   "name": "python",
   "nbconvert_exporter": "python",
   "pygments_lexer": "ipython3",
   "version": "3.7.4"
  }
 },
 "nbformat": 4,
 "nbformat_minor": 2
}
