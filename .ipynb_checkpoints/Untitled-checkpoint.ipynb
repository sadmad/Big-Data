{
 "cells": [
  {
   "cell_type": "markdown",
   "metadata": {},
   "source": [
    "## Assignment I"
   ]
  },
  {
   "cell_type": "markdown",
   "metadata": {},
   "source": [
    "## Task 1"
   ]
  },
  {
   "cell_type": "markdown",
   "metadata": {},
   "source": [
    " a) Create a list which contains all numbers from 0 to 10."
   ]
  },
  {
   "cell_type": "code",
   "execution_count": 82,
   "metadata": {},
   "outputs": [],
   "source": [
    "from copy import deepcopy\n",
    "import functools"
   ]
  },
  {
   "cell_type": "code",
   "execution_count": 111,
   "metadata": {},
   "outputs": [
    {
     "name": "stdout",
     "output_type": "stream",
     "text": [
      "[0, 1, 2, 3, 4, 5, 6, 7, 8, 9, 10] [0, 1, 2, 3, 4, 5, 6, 7, 8, 9, 10]\n"
     ]
    }
   ],
   "source": [
    "list1 = [0,1,2,3,4,5,6,7,8,9,10]\n",
    "list2 = list(range(0,11))\n",
    "print(list1, list2)"
   ]
  },
  {
   "cell_type": "markdown",
   "metadata": {},
   "source": [
    "b) Using the created list from (a), print each element of the created list, but only if\n",
    "it is an odd number. Use a loop and conditionals to do this. Try using different\n",
    "types of loops and decide which is best suiting for this simple task. (State this as a\n",
    "comment in the .txt-file.)"
   ]
  },
  {
   "cell_type": "code",
   "execution_count": 45,
   "metadata": {},
   "outputs": [
    {
     "name": "stdout",
     "output_type": "stream",
     "text": [
      "1\n",
      "3\n",
      "5\n",
      "7\n",
      "9\n"
     ]
    }
   ],
   "source": [
    "for n in list1:\n",
    "    if n % 2 != 0:\n",
    "        print(n)"
   ]
  },
  {
   "cell_type": "markdown",
   "metadata": {},
   "source": [
    "I thought a lot about the answer my only clow is a for loop counts the logic one time less than a while loop but if we want to work with the index we must use while or old fasion for loop. In blow I added another way of if logic."
   ]
  },
  {
   "cell_type": "code",
   "execution_count": 114,
   "metadata": {},
   "outputs": [
    {
     "ename": "SyntaxError",
     "evalue": "invalid syntax (<ipython-input-114-52f73751e06d>, line 1)",
     "output_type": "error",
     "traceback": [
      "\u001b[0;36m  File \u001b[0;32m\"<ipython-input-114-52f73751e06d>\"\u001b[0;36m, line \u001b[0;32m1\u001b[0m\n\u001b[0;31m    for n in list1\u001b[0m\n\u001b[0m                  ^\u001b[0m\n\u001b[0;31mSyntaxError\u001b[0m\u001b[0;31m:\u001b[0m invalid syntax\n"
     ]
    }
   ],
   "source": [
    "for n in list1:\n",
    "    if n % 2 > 0:\n",
    "        print(n)"
   ]
  },
  {
   "cell_type": "code",
   "execution_count": 47,
   "metadata": {},
   "outputs": [
    {
     "name": "stdout",
     "output_type": "stream",
     "text": [
      "1\n",
      "3\n",
      "5\n",
      "7\n",
      "9\n"
     ]
    },
    {
     "data": {
      "text/plain": [
       "[None, None, None, None, None]"
      ]
     },
     "execution_count": 47,
     "metadata": {},
     "output_type": "execute_result"
    }
   ],
   "source": [
    "[print(n) for n in list2 if n%2>0] "
   ]
  },
  {
   "cell_type": "code",
   "execution_count": 113,
   "metadata": {},
   "outputs": [
    {
     "name": "stdout",
     "output_type": "stream",
     "text": [
      "1\n",
      "3\n",
      "5\n",
      "7\n",
      "9\n"
     ]
    }
   ],
   "source": [
    "i = 0\n",
    "while i < len(list1):\n",
    "    if list1[i] % 2 > 0:\n",
    "        print(list1[i])\n",
    "    i += 1"
   ]
  },
  {
   "cell_type": "markdown",
   "metadata": {},
   "source": [
    "c) Generate a list using list comprehensions, which contains all numbers from 0 to\n",
    "some value. Your list should contain 10 elements overall, which are the squares of\n",
    "the list in (a). Do not use ”normal”-loops, but list-comprehensions in this task!\n"
   ]
  },
  {
   "cell_type": "markdown",
   "metadata": {},
   "source": [
    "*** In this question, it is obvious that you want the square of 0 to 10, but it is a little bit tricky. It can be a little bit easier, but if the reason is to be confused by the question..."
   ]
  },
  {
   "cell_type": "code",
   "execution_count": 55,
   "metadata": {},
   "outputs": [
    {
     "name": "stdout",
     "output_type": "stream",
     "text": [
      "[0, 1, 4, 9, 16, 25, 36, 49, 64, 81, 100]\n"
     ]
    }
   ],
   "source": [
    "squares = [n * n for n in range(11)]\n",
    "print (squares)"
   ]
  },
  {
   "cell_type": "markdown",
   "metadata": {},
   "source": [
    "d) Write a function which takes an integer n as input. The function first creates a list\n",
    "of numbers from 0 to n. Then square each number of the list. Further each of the\n",
    "squared numbers is tested, if it is odd. All odd numbers are then appended to a\n",
    "new list. The function returns the list of odd (squared) numbers.\n",
    "\n"
   ]
  },
  {
   "cell_type": "markdown",
   "metadata": {},
   "source": [
    "Write a function that takes an integer n as an input. The function first creates a list of numbers from 0 to n. Then squares each number of the list and also checks if the squered number is odd. At the end it returns the list of odd numbers."
   ]
  },
  {
   "cell_type": "code",
   "execution_count": 64,
   "metadata": {},
   "outputs": [
    {
     "data": {
      "text/plain": [
       "[1, 9, 25, 49, 81]"
      ]
     },
     "execution_count": 64,
     "metadata": {},
     "output_type": "execute_result"
    }
   ],
   "source": [
    "def listCreator(n):\n",
    "    list1 = list(range(n+1))\n",
    "    list2 = []\n",
    "    for n in list1:\n",
    "        square = n * n\n",
    "        if square % 2 > 0:\n",
    "            list2.append(square)\n",
    "    return list2       \n",
    "listCreator(10)        "
   ]
  },
  {
   "cell_type": "markdown",
   "metadata": {},
   "source": [
    "## Task 2"
   ]
  },
  {
   "cell_type": "markdown",
   "metadata": {},
   "source": [
    "In this task, we will practise data structures with copys and dictionaries. Again write\n",
    "your solution code in a .txt file. Answer questions in any document-software you want to\n",
    "use and format it into .pdf!\n"
   ]
  },
  {
   "cell_type": "markdown",
   "metadata": {},
   "source": [
    "\n",
    "About the question that is neaded to be explaned, please use any document-software and export your answer as PDF.  "
   ]
  },
  {
   "cell_type": "markdown",
   "metadata": {},
   "source": [
    "a) Given a list a = [”I”, ”like”, ”cookies”] and another list b = a. Replace in the list b the element ”cookies” with ”apples”. Finally print both lists (a and b). What do you observe? What leads to the observed behavior?"
   ]
  },
  {
   "cell_type": "code",
   "execution_count": 118,
   "metadata": {},
   "outputs": [
    {
     "name": "stdout",
     "output_type": "stream",
     "text": [
      "['I', 'like', 'apples'] ['I', 'like', 'apples']\n",
      "139623146653808 139623146653808\n"
     ]
    }
   ],
   "source": [
    "favoriteList = ['I', 'like', 'cookies']\n",
    "favoriteList2 = favoriteList\n",
    "favoriteList2[2] = \"apples\"\n",
    "print(favoriteList, favoriteList2)\n",
    "print(id(favoriteList), id(favoriteList2))"
   ]
  },
  {
   "cell_type": "markdown",
   "metadata": {},
   "source": [
    "Python is an object-oriented language, so everything is an object. As a result, when you assign something, it will assign every property of one to the other, even the memory addresses. It means you do not make a copy. You address the list to a new one and both of them are same object."
   ]
  },
  {
   "cell_type": "markdown",
   "metadata": {},
   "source": [
    "(b) Given a list a = [”I”, ”like”, ”cookies”] and another list which takes a shallow copy of a: b = a[:]. Like in the previous task (a), replace in the list b the element ”cookies” with ”apples”. Finally print both lists (a and b). What do you observe now?"
   ]
  },
  {
   "cell_type": "markdown",
   "metadata": {},
   "source": [
    "(b) Given a list a = [”I”, ”like”, ”cookies”] and make shallow copy of it in to b. As we did before, replace the new list third item with ”apples”. Finally print both lists (a and b). What do you observe now? (syntax of shallow copy is b = a[:] or b = a.copy())"
   ]
  },
  {
   "cell_type": "code",
   "execution_count": 121,
   "metadata": {},
   "outputs": [
    {
     "name": "stdout",
     "output_type": "stream",
     "text": [
      "['I', 'like', 'cookies'] ['I', 'like', 'apples']\n",
      "139623146714928 139623146995792\n"
     ]
    }
   ],
   "source": [
    "a = ['I', 'like', 'cookies']\n",
    "b = a[:]\n",
    "b[2] = \"apples\"\n",
    "print(a, b)\n",
    "print(id(a[2]), id(b[2]))"
   ]
  },
  {
   "cell_type": "markdown",
   "metadata": {},
   "source": [
    "with using Slicing or .copy() function we make a new object from our old one with new memory address."
   ]
  },
  {
   "cell_type": "markdown",
   "metadata": {},
   "source": [
    "(c) Now we are given a list a = [”I”, ”like”, [”chocolate”, ”cookies”]] and another list which takes a shallow copy of a(b = a[:]). Change now the element ”cookies” with ”apples” in b. Now print again both lists (a and b). What do you observe? What leads to the observed behavior?"
   ]
  },
  {
   "cell_type": "code",
   "execution_count": 123,
   "metadata": {},
   "outputs": [
    {
     "name": "stdout",
     "output_type": "stream",
     "text": [
      "['I', 'like', ['chocolate', 'apples']] ['I', 'like', ['chocolate', 'apples']]\n"
     ]
    }
   ],
   "source": [
    "a = ['I', 'like', ['chocolate', 'cookies']]\n",
    "b = a[:]\n",
    "b[2][1] = 'apples'\n",
    "print(a, b)"
   ]
  },
  {
   "cell_type": "markdown",
   "metadata": {},
   "source": [
    "A shallow copy, as it is evident from the meaning of its name, only copy the first layer of the object and does not work for an object which contains another object in it. It only addresses the inner object."
   ]
  },
  {
   "cell_type": "markdown",
   "metadata": {},
   "source": [
    "(d) Like in the previous task, we are given a list a =\n",
    "[”I”, ”like”, [”chocolate”, ”cookies”]]. Another list b = deepcopy(a) takes a\n",
    "deep copy from a. Now change the element ”cookies” with ”apples” in b. Print\n",
    "both lists (a and b). What do you observe now?\n",
    "Hint: For deep copy, first type: from copy import deepcopy in the head of your\n",
    "python-file."
   ]
  },
  {
   "cell_type": "code",
   "execution_count": 124,
   "metadata": {},
   "outputs": [
    {
     "name": "stdout",
     "output_type": "stream",
     "text": [
      "['I', 'like', ['chocolate', 'cookies']] ['I', 'like', ['chocolate', 'apples']]\n"
     ]
    }
   ],
   "source": [
    "a = ['I', 'like', ['chocolate', 'cookies']]\n",
    "b = deepcopy(a)\n",
    "b[2][1] = 'apples'\n",
    "print(a, b)"
   ]
  },
  {
   "cell_type": "markdown",
   "metadata": {},
   "source": [
    "deapcopy constructs a new object from our inner object(compound object) and assing all the properties to the new one. deapcopy copy everything even too much, such as data which is intended to be shared between copies."
   ]
  },
  {
   "cell_type": "markdown",
   "metadata": {},
   "source": [
    "(e) Create a dictionary with n entries, where the keys are enumerated from 0 to n − 1\n",
    "and the values are their corresponding keys squared. Use list comprehensions!\n",
    "Example for the expected result: n = 7: {0:0, 1:1, 2:4, 3:9, 4:16, 5:25, 6:26} "
   ]
  },
  {
   "cell_type": "code",
   "execution_count": null,
   "metadata": {},
   "outputs": [],
   "source": [
    "The last item of the question example should change to 36 it is now 26 \n",
    "{0:0, 1:1, 2:4, 3:9, 4:16, 5:25, 6:36}"
   ]
  },
  {
   "cell_type": "code",
   "execution_count": 103,
   "metadata": {},
   "outputs": [
    {
     "name": "stdout",
     "output_type": "stream",
     "text": [
      "{'0': 0, '1': 1, '2': 4, '3': 9, '4': 16, '5': 25, '6': 36}\n"
     ]
    }
   ],
   "source": [
    "dict1 = {'0':0, '1': 1, '2': 2, '3': 3, '4': 4, '5': 5, '6':6}\n",
    "squareDict1 = {k:v*v for (k,v) in dict1.items()}\n",
    "print(squareDict1)"
   ]
  },
  {
   "cell_type": "markdown",
   "metadata": {},
   "source": [
    "(f) Use the dictionary from (e). Write a list comprehension to get a list of all the keys\n",
    "of the dictionary."
   ]
  },
  {
   "cell_type": "code",
   "execution_count": 107,
   "metadata": {},
   "outputs": [
    {
     "name": "stdout",
     "output_type": "stream",
     "text": [
      "['0', '1', '2', '3', '4', '5', '6']\n"
     ]
    }
   ],
   "source": [
    "listOfKeys = [key for (key, value) in dict1.items() ]\n",
    "print(listOfKeys)"
   ]
  },
  {
   "cell_type": "markdown",
   "metadata": {},
   "source": [
    "## Task 3"
   ]
  },
  {
   "cell_type": "markdown",
   "metadata": {},
   "source": [
    "In the last task of this assignment, we will use lambda functions and the map, filter and\n",
    "reduce paradigms of functional programming. For more information and tutorials, you\n",
    "may want to visit e.g. https://www.learnpython.org/en/Map%2C_Filter%2C_Reduce.\n",
    "Again write your solutions into a .txt file."
   ]
  },
  {
   "cell_type": "code",
   "execution_count": 134,
   "metadata": {},
   "outputs": [
    {
     "name": "stdout",
     "output_type": "stream",
     "text": [
      "[0, 2, 4, 6, 8, 10]\n"
     ]
    }
   ],
   "source": [
    "Evennumbers  =  lambda x: x%2 == 0\n",
    "list1 = [x for x in range(11) if Evennumbers(x)]\n",
    "print(list1)"
   ]
  },
  {
   "cell_type": "markdown",
   "metadata": {},
   "source": [
    "(a) Write a list comprehension which takes a number n and returns a list with even numbers, using a lambda function."
   ]
  },
  {
   "cell_type": "code",
   "execution_count": 106,
   "metadata": {},
   "outputs": [
    {
     "data": {
      "text/plain": [
       "[0, 2, 4, 6, 8, 10]"
      ]
     },
     "execution_count": 106,
     "metadata": {},
     "output_type": "execute_result"
    }
   ],
   "source": [
    "def evenNumber(n):\n",
    "    return list(filter(lambda a: a%2==0, range(n+1)))\n",
    "oddNumber(10)\n"
   ]
  },
  {
   "cell_type": "code",
   "execution_count": 2,
   "metadata": {},
   "outputs": [
    {
     "data": {
      "text/plain": [
       "[0, 2, 4, 6, 8, 10]"
      ]
     },
     "execution_count": 2,
     "metadata": {},
     "output_type": "execute_result"
    }
   ],
   "source": [
    "def evenListMaker(n):\n",
    "    return [a for a in list(range(n+1)) if (lambda a: a % 2 == 0)(a)]\n",
    "evenListMaker(10)"
   ]
  },
  {
   "cell_type": "code",
   "execution_count": 108,
   "metadata": {},
   "outputs": [
    {
     "name": "stdout",
     "output_type": "stream",
     "text": [
      "[0, 1, 4, 9, 16, 25, 36, 49, 64, 81, 100]\n"
     ]
    }
   ],
   "source": [
    "listSquireNum = [(lambda n: n*n)(n) for n in range(11)]\n",
    "print(listSquireNum)\n",
    "               "
   ]
  },
  {
   "cell_type": "markdown",
   "metadata": {},
   "source": [
    "(b) First write a function which takes a length in inch and returns a length in cm. Given\n",
    "a list l with lengths in inches: l = [4, 4.5, 5, 5.5; 6, 7]. Write a list comprehension\n",
    "which takes l and returns a list with all values converted to cm using map."
   ]
  },
  {
   "cell_type": "code",
   "execution_count": 131,
   "metadata": {},
   "outputs": [
    {
     "name": "stdout",
     "output_type": "stream",
     "text": [
      "[9.8, 11.025, 12.25, 13.475000000000001, 14.700000000000001, 17.150000000000002]\n"
     ]
    }
   ],
   "source": [
    "def inchToCm(n):\n",
    "    return n * 2.45\n",
    "l = [4, 4.5, 5, 5.5, 6, 7]\n",
    "lengthList = list(map(inchToCm, l))\n",
    "print(lengthList)"
   ]
  },
  {
   "cell_type": "code",
   "execution_count": null,
   "metadata": {},
   "outputs": [],
   "source": [
    "x = lambda n: n*2.45"
   ]
  },
  {
   "cell_type": "markdown",
   "metadata": {},
   "source": [
    "(c) Write a list comprehension which filters the list l from (b) by returning only sizes\n",
    "between 4 and 6 inches. Use filter for this!"
   ]
  },
  {
   "cell_type": "code",
   "execution_count": 133,
   "metadata": {},
   "outputs": [
    {
     "name": "stdout",
     "output_type": "stream",
     "text": [
      "[4, 4.5, 5, 5.5]\n"
     ]
    }
   ],
   "source": [
    "filterList = list(filter(lambda n: n > 3 and n <6, l))\n",
    "print(filterList)"
   ]
  },
  {
   "cell_type": "markdown",
   "metadata": {},
   "source": [
    "(d) Write a list comprehension which reduces the list l by summing up all lengths."
   ]
  },
  {
   "cell_type": "code",
   "execution_count": 19,
   "metadata": {},
   "outputs": [
    {
     "name": "stdout",
     "output_type": "stream",
     "text": [
      "32.0\n"
     ]
    }
   ],
   "source": [
    "reducedList = reduce(lambda x, y: x+y, l)\n",
    "print(reducedList)"
   ]
  },
  {
   "cell_type": "markdown",
   "metadata": {},
   "source": [
    "# Task 4"
   ]
  },
  {
   "cell_type": "code",
   "execution_count": null,
   "metadata": {},
   "outputs": [],
   "source": []
  }
 ],
 "metadata": {
  "kernelspec": {
   "display_name": "Python 3",
   "language": "python",
   "name": "python3"
  },
  "language_info": {
   "codemirror_mode": {
    "name": "ipython",
    "version": 3
   },
   "file_extension": ".py",
   "mimetype": "text/x-python",
   "name": "python",
   "nbconvert_exporter": "python",
   "pygments_lexer": "ipython3",
   "version": "3.7.4"
  }
 },
 "nbformat": 4,
 "nbformat_minor": 2
}
