{
 "cells": [
  {
   "cell_type": "markdown",
   "metadata": {},
   "source": [
    "# Task 1"
   ]
  },
  {
   "cell_type": "markdown",
   "metadata": {},
   "source": [
    "(a) Explain in your own words what the major similarities and differences between graph databases and other NoSQL databases are."
   ]
  },
  {
   "cell_type": "markdown",
   "metadata": {},
   "source": [
    "Neo4j uses the query language Cypher. You can learn more about Cypher here:\n",
    "https://neo4j.com/developer/cypher-basics-i/\n",
    "Consider the following outline of a Neo4j database:"
   ]
  },
  {
   "cell_type": "code",
   "execution_count": 30,
   "metadata": {},
   "outputs": [
    {
     "data": {
      "text/html": [
       "<div>\n",
       "<style scoped>\n",
       "    .dataframe tbody tr th:only-of-type {\n",
       "        vertical-align: middle;\n",
       "    }\n",
       "\n",
       "    .dataframe tbody tr th {\n",
       "        vertical-align: top;\n",
       "    }\n",
       "\n",
       "    .dataframe thead th {\n",
       "        text-align: right;\n",
       "    }\n",
       "</style>\n",
       "<table border=\"1\" class=\"dataframe\">\n",
       "  <thead>\n",
       "    <tr style=\"text-align: right;\">\n",
       "      <th></th>\n",
       "      <th>n</th>\n",
       "    </tr>\n",
       "  </thead>\n",
       "  <tbody>\n",
       "    <tr>\n",
       "      <th>0</th>\n",
       "      <td>{'birthday': '-', 'birthplace': '', 'name': 'D...</td>\n",
       "    </tr>\n",
       "    <tr>\n",
       "      <th>1</th>\n",
       "      <td>{'birthday': '-', 'birthplace': '', 'name': 'M...</td>\n",
       "    </tr>\n",
       "    <tr>\n",
       "      <th>2</th>\n",
       "      <td>{'birthday': '-', 'birthplace': '', 'name': 'D...</td>\n",
       "    </tr>\n",
       "    <tr>\n",
       "      <th>3</th>\n",
       "      <td>{'birthday': '-', 'birthplace': '', 'name': 'W...</td>\n",
       "    </tr>\n",
       "    <tr>\n",
       "      <th>4</th>\n",
       "      <td>{'birthday': '-', 'birthplace': '', 'name': 'L...</td>\n",
       "    </tr>\n",
       "    <tr>\n",
       "      <th>5</th>\n",
       "      <td>{'birthday': '-', 'birthplace': '', 'name': 'C...</td>\n",
       "    </tr>\n",
       "    <tr>\n",
       "      <th>6</th>\n",
       "      <td>{'birthday': 156466800000, 'birthplace': 'os A...</td>\n",
       "    </tr>\n",
       "    <tr>\n",
       "      <th>7</th>\n",
       "      <td>{'birthday': '-', 'birthplace': '', 'name': 'J...</td>\n",
       "    </tr>\n",
       "    <tr>\n",
       "      <th>8</th>\n",
       "      <td>{'birthday': 269046000000, 'birthplace': 'exar...</td>\n",
       "    </tr>\n",
       "    <tr>\n",
       "      <th>9</th>\n",
       "      <td>{'birthday': '-', 'birthplace': '', 'name': 'S...</td>\n",
       "    </tr>\n",
       "    <tr>\n",
       "      <th>10</th>\n",
       "      <td>{'birthday': -638499600000, 'birthplace': 'ew ...</td>\n",
       "    </tr>\n",
       "    <tr>\n",
       "      <th>11</th>\n",
       "      <td>{'birthday': 267058800000, 'birthplace': 'ew J...</td>\n",
       "    </tr>\n",
       "    <tr>\n",
       "      <th>12</th>\n",
       "      <td>{'birthday': 207788400000, 'birthplace': 'odal...</td>\n",
       "    </tr>\n",
       "  </tbody>\n",
       "</table>\n",
       "</div>"
      ],
      "text/plain": [
       "                                                    n\n",
       "0   {'birthday': '-', 'birthplace': '', 'name': 'D...\n",
       "1   {'birthday': '-', 'birthplace': '', 'name': 'M...\n",
       "2   {'birthday': '-', 'birthplace': '', 'name': 'D...\n",
       "3   {'birthday': '-', 'birthplace': '', 'name': 'W...\n",
       "4   {'birthday': '-', 'birthplace': '', 'name': 'L...\n",
       "5   {'birthday': '-', 'birthplace': '', 'name': 'C...\n",
       "6   {'birthday': 156466800000, 'birthplace': 'os A...\n",
       "7   {'birthday': '-', 'birthplace': '', 'name': 'J...\n",
       "8   {'birthday': 269046000000, 'birthplace': 'exar...\n",
       "9   {'birthday': '-', 'birthplace': '', 'name': 'S...\n",
       "10  {'birthday': -638499600000, 'birthplace': 'ew ...\n",
       "11  {'birthday': 267058800000, 'birthplace': 'ew J...\n",
       "12  {'birthday': 207788400000, 'birthplace': 'odal..."
      ]
     },
     "execution_count": 30,
     "metadata": {},
     "output_type": "execute_result"
    }
   ],
   "source": [
    "\n"
   ]
  },
  {
   "cell_type": "markdown",
   "metadata": {},
   "source": [
    "b) Write a Cypher query to retrieve the actor whose name is Laurence Fishburne."
   ]
  },
  {
   "cell_type": "code",
   "execution_count": 2,
   "metadata": {},
   "outputs": [
    {
     "data": {
      "text/html": [
       "<table><tr><th>p.name</th></tr><tr><td style=\"text-align:left\">Laurence Fishburne</td></tr></table>"
      ],
      "text/plain": [
       " p.name             \n",
       "--------------------\n",
       " Laurence Fishburne "
      ]
     },
     "execution_count": 2,
     "metadata": {},
     "output_type": "execute_result"
    }
   ],
   "source": [
    "from py2neo import Graph, Node, Relationship\n",
    "import pandas as pd\n",
    "import numpy as np\n",
    "import matplotlib.pyplot as plt\n",
    "graph = Graph(\"bolt://localhost:7687\", auth=(\"neo4j\", \"123\"))\n",
    "query = \"MATCH (p:Person {name: 'Laurence Fishburne'}) RETURN p.name\"\n",
    "result = graph.run(query)\n",
    "result.to_table()"
   ]
  },
  {
   "cell_type": "markdown",
   "metadata": {},
   "source": [
    "(c) Write a Cypher query to find all directors whose name contains Wachowsky."
   ]
  },
  {
   "cell_type": "code",
   "execution_count": 6,
   "metadata": {},
   "outputs": [
    {
     "data": {
      "text/html": [
       "<table></table>"
      ],
      "text/plain": []
     },
     "execution_count": 6,
     "metadata": {},
     "output_type": "execute_result"
    }
   ],
   "source": [
    "query = \"MATCH (n:Actor) WHERE n.name CONTAINS 'Wachowsky' return n\"\n",
    "result = graph.run(query)\n",
    "result.to_table()"
   ]
  },
  {
   "cell_type": "markdown",
   "metadata": {},
   "source": [
    "(d) Write a single Cypher query to retrieve the actors with name Laurence Fishburne\n",
    "and Keanu Reeves at the same time."
   ]
  },
  {
   "cell_type": "code",
   "execution_count": 4,
   "metadata": {},
   "outputs": [
    {
     "ename": "ClientError",
     "evalue": "SyntaxError: Variable `n` not defined (line 1, column 120 (offset: 119))\n\"MATCH (a1:Actor{name: 'Laurence Fishburne'})-[:ACTS_IN]->(m:Movie)<-[:ACTS_IN]-(a2:Actor{name: 'Keanu Reeves'}) return n,n2\"\n                                                                                                                        ^",
     "output_type": "error",
     "traceback": [
      "\u001b[0;31m---------------------------------------------------------------------------\u001b[0m",
      "\u001b[0;31mClientError\u001b[0m                               Traceback (most recent call last)",
      "\u001b[0;32m<ipython-input-4-0a62826c8afe>\u001b[0m in \u001b[0;36m<module>\u001b[0;34m\u001b[0m\n\u001b[1;32m      1\u001b[0m \u001b[0mquery\u001b[0m \u001b[0;34m=\u001b[0m \u001b[0;34m\"MATCH (a1:Actor{name: 'Laurence Fishburne'})-[:ACTS_IN]->(m:Movie)<-[:ACTS_IN]-(a2:Actor{name: 'Keanu Reeves'}) return n,n2\"\u001b[0m\u001b[0;34m\u001b[0m\u001b[0;34m\u001b[0m\u001b[0m\n\u001b[0;32m----> 2\u001b[0;31m \u001b[0mresult\u001b[0m \u001b[0;34m=\u001b[0m \u001b[0mgraph\u001b[0m\u001b[0;34m.\u001b[0m\u001b[0mrun\u001b[0m\u001b[0;34m(\u001b[0m\u001b[0mquery\u001b[0m\u001b[0;34m)\u001b[0m\u001b[0;34m\u001b[0m\u001b[0;34m\u001b[0m\u001b[0m\n\u001b[0m\u001b[1;32m      3\u001b[0m \u001b[0mresult\u001b[0m\u001b[0;34m.\u001b[0m\u001b[0mto_table\u001b[0m\u001b[0;34m(\u001b[0m\u001b[0;34m)\u001b[0m\u001b[0;34m\u001b[0m\u001b[0;34m\u001b[0m\u001b[0m\n",
      "\u001b[0;32m~/anaconda3/lib/python3.7/site-packages/py2neo/database.py\u001b[0m in \u001b[0;36mrun\u001b[0;34m(self, cypher, parameters, **kwparameters)\u001b[0m\n\u001b[1;32m    531\u001b[0m         \u001b[0;34m:\u001b[0m\u001b[0;32mreturn\u001b[0m\u001b[0;34m:\u001b[0m\u001b[0;34m\u001b[0m\u001b[0;34m\u001b[0m\u001b[0m\n\u001b[1;32m    532\u001b[0m         \"\"\"\n\u001b[0;32m--> 533\u001b[0;31m         \u001b[0;32mreturn\u001b[0m \u001b[0mself\u001b[0m\u001b[0;34m.\u001b[0m\u001b[0mbegin\u001b[0m\u001b[0;34m(\u001b[0m\u001b[0mautocommit\u001b[0m\u001b[0;34m=\u001b[0m\u001b[0;32mTrue\u001b[0m\u001b[0;34m)\u001b[0m\u001b[0;34m.\u001b[0m\u001b[0mrun\u001b[0m\u001b[0;34m(\u001b[0m\u001b[0mcypher\u001b[0m\u001b[0;34m,\u001b[0m \u001b[0mparameters\u001b[0m\u001b[0;34m,\u001b[0m \u001b[0;34m**\u001b[0m\u001b[0mkwparameters\u001b[0m\u001b[0;34m)\u001b[0m\u001b[0;34m\u001b[0m\u001b[0;34m\u001b[0m\u001b[0m\n\u001b[0m\u001b[1;32m    534\u001b[0m \u001b[0;34m\u001b[0m\u001b[0m\n\u001b[1;32m    535\u001b[0m     \u001b[0;32mdef\u001b[0m \u001b[0mseparate\u001b[0m\u001b[0;34m(\u001b[0m\u001b[0mself\u001b[0m\u001b[0;34m,\u001b[0m \u001b[0msubgraph\u001b[0m\u001b[0;34m)\u001b[0m\u001b[0;34m:\u001b[0m\u001b[0;34m\u001b[0m\u001b[0;34m\u001b[0m\u001b[0m\n",
      "\u001b[0;32m~/anaconda3/lib/python3.7/site-packages/py2neo/database.py\u001b[0m in \u001b[0;36mrun\u001b[0;34m(self, cypher, parameters, **kwparameters)\u001b[0m\n\u001b[1;32m    826\u001b[0m                                              \u001b[0mgraph\u001b[0m\u001b[0;34m=\u001b[0m\u001b[0mself\u001b[0m\u001b[0;34m.\u001b[0m\u001b[0mgraph\u001b[0m\u001b[0;34m,\u001b[0m\u001b[0;34m\u001b[0m\u001b[0;34m\u001b[0m\u001b[0m\n\u001b[1;32m    827\u001b[0m                                              \u001b[0mkeys\u001b[0m\u001b[0;34m=\u001b[0m\u001b[0;34m[\u001b[0m\u001b[0;34m]\u001b[0m\u001b[0;34m,\u001b[0m\u001b[0;34m\u001b[0m\u001b[0;34m\u001b[0m\u001b[0m\n\u001b[0;32m--> 828\u001b[0;31m                                              entities=entities))\n\u001b[0m\u001b[1;32m    829\u001b[0m         \u001b[0;32mexcept\u001b[0m \u001b[0mCypherError\u001b[0m \u001b[0;32mas\u001b[0m \u001b[0merror\u001b[0m\u001b[0;34m:\u001b[0m\u001b[0;34m\u001b[0m\u001b[0;34m\u001b[0m\u001b[0m\n\u001b[1;32m    830\u001b[0m             \u001b[0;32mraise\u001b[0m \u001b[0mGraphError\u001b[0m\u001b[0;34m.\u001b[0m\u001b[0mhydrate\u001b[0m\u001b[0;34m(\u001b[0m\u001b[0;34m{\u001b[0m\u001b[0;34m\"code\"\u001b[0m\u001b[0;34m:\u001b[0m \u001b[0merror\u001b[0m\u001b[0;34m.\u001b[0m\u001b[0mcode\u001b[0m\u001b[0;34m,\u001b[0m \u001b[0;34m\"message\"\u001b[0m\u001b[0;34m:\u001b[0m \u001b[0merror\u001b[0m\u001b[0;34m.\u001b[0m\u001b[0mmessage\u001b[0m\u001b[0;34m}\u001b[0m\u001b[0;34m)\u001b[0m\u001b[0;34m\u001b[0m\u001b[0;34m\u001b[0m\u001b[0m\n",
      "\u001b[0;32m~/anaconda3/lib/python3.7/site-packages/py2neo/internal/connectors.py\u001b[0m in \u001b[0;36mrun\u001b[0;34m(self, statement, parameters, tx, graph, keys, entities)\u001b[0m\n\u001b[1;32m    290\u001b[0m     \u001b[0;32mdef\u001b[0m \u001b[0mrun\u001b[0m\u001b[0;34m(\u001b[0m\u001b[0mself\u001b[0m\u001b[0;34m,\u001b[0m \u001b[0mstatement\u001b[0m\u001b[0;34m,\u001b[0m \u001b[0mparameters\u001b[0m\u001b[0;34m=\u001b[0m\u001b[0;32mNone\u001b[0m\u001b[0;34m,\u001b[0m \u001b[0mtx\u001b[0m\u001b[0;34m=\u001b[0m\u001b[0;32mNone\u001b[0m\u001b[0;34m,\u001b[0m \u001b[0mgraph\u001b[0m\u001b[0;34m=\u001b[0m\u001b[0;32mNone\u001b[0m\u001b[0;34m,\u001b[0m \u001b[0mkeys\u001b[0m\u001b[0;34m=\u001b[0m\u001b[0;32mNone\u001b[0m\u001b[0;34m,\u001b[0m \u001b[0mentities\u001b[0m\u001b[0;34m=\u001b[0m\u001b[0;32mNone\u001b[0m\u001b[0;34m)\u001b[0m\u001b[0;34m:\u001b[0m\u001b[0;34m\u001b[0m\u001b[0;34m\u001b[0m\u001b[0m\n\u001b[1;32m    291\u001b[0m         \u001b[0;32mif\u001b[0m \u001b[0mtx\u001b[0m \u001b[0;32mis\u001b[0m \u001b[0;32mNone\u001b[0m\u001b[0;34m:\u001b[0m\u001b[0;34m\u001b[0m\u001b[0;34m\u001b[0m\u001b[0m\n\u001b[0;32m--> 292\u001b[0;31m             \u001b[0;32mreturn\u001b[0m \u001b[0mself\u001b[0m\u001b[0;34m.\u001b[0m\u001b[0m_run_1\u001b[0m\u001b[0;34m(\u001b[0m\u001b[0mstatement\u001b[0m\u001b[0;34m,\u001b[0m \u001b[0mparameters\u001b[0m\u001b[0;34m,\u001b[0m \u001b[0mgraph\u001b[0m\u001b[0;34m,\u001b[0m \u001b[0mkeys\u001b[0m\u001b[0;34m,\u001b[0m \u001b[0mentities\u001b[0m\u001b[0;34m)\u001b[0m\u001b[0;34m\u001b[0m\u001b[0;34m\u001b[0m\u001b[0m\n\u001b[0m\u001b[1;32m    293\u001b[0m         \u001b[0;32melse\u001b[0m\u001b[0;34m:\u001b[0m\u001b[0;34m\u001b[0m\u001b[0;34m\u001b[0m\u001b[0m\n\u001b[1;32m    294\u001b[0m             \u001b[0;32mreturn\u001b[0m \u001b[0mself\u001b[0m\u001b[0;34m.\u001b[0m\u001b[0m_run_in_tx\u001b[0m\u001b[0;34m(\u001b[0m\u001b[0mstatement\u001b[0m\u001b[0;34m,\u001b[0m \u001b[0mparameters\u001b[0m\u001b[0;34m,\u001b[0m \u001b[0mtx\u001b[0m\u001b[0;34m,\u001b[0m \u001b[0mgraph\u001b[0m\u001b[0;34m,\u001b[0m \u001b[0mkeys\u001b[0m\u001b[0;34m,\u001b[0m \u001b[0mentities\u001b[0m\u001b[0;34m)\u001b[0m\u001b[0;34m\u001b[0m\u001b[0;34m\u001b[0m\u001b[0m\n",
      "\u001b[0;32m~/anaconda3/lib/python3.7/site-packages/py2neo/internal/connectors.py\u001b[0m in \u001b[0;36m_run_1\u001b[0;34m(self, statement, parameters, graph, keys, entities)\u001b[0m\n\u001b[1;32m    253\u001b[0m                     on_success=result.update_metadata, on_failure=self._fail, on_summary=result.done)\n\u001b[1;32m    254\u001b[0m         \u001b[0mcx\u001b[0m\u001b[0;34m.\u001b[0m\u001b[0msend\u001b[0m\u001b[0;34m(\u001b[0m\u001b[0;34m)\u001b[0m\u001b[0;34m\u001b[0m\u001b[0;34m\u001b[0m\u001b[0m\n\u001b[0;32m--> 255\u001b[0;31m         \u001b[0mcx\u001b[0m\u001b[0;34m.\u001b[0m\u001b[0mfetch\u001b[0m\u001b[0;34m(\u001b[0m\u001b[0;34m)\u001b[0m\u001b[0;34m\u001b[0m\u001b[0;34m\u001b[0m\u001b[0m\n\u001b[0m\u001b[1;32m    256\u001b[0m         \u001b[0;32mreturn\u001b[0m \u001b[0mresult\u001b[0m\u001b[0;34m\u001b[0m\u001b[0;34m\u001b[0m\u001b[0m\n\u001b[1;32m    257\u001b[0m \u001b[0;34m\u001b[0m\u001b[0m\n",
      "\u001b[0;32m~/anaconda3/lib/python3.7/site-packages/neobolt/direct.py\u001b[0m in \u001b[0;36mfetch\u001b[0;34m(self)\u001b[0m\n\u001b[1;32m    420\u001b[0m     \u001b[0;32mdef\u001b[0m \u001b[0mfetch\u001b[0m\u001b[0;34m(\u001b[0m\u001b[0mself\u001b[0m\u001b[0;34m)\u001b[0m\u001b[0;34m:\u001b[0m\u001b[0;34m\u001b[0m\u001b[0;34m\u001b[0m\u001b[0m\n\u001b[1;32m    421\u001b[0m         \u001b[0;32mtry\u001b[0m\u001b[0;34m:\u001b[0m\u001b[0;34m\u001b[0m\u001b[0;34m\u001b[0m\u001b[0m\n\u001b[0;32m--> 422\u001b[0;31m             \u001b[0;32mreturn\u001b[0m \u001b[0mself\u001b[0m\u001b[0;34m.\u001b[0m\u001b[0m_fetch\u001b[0m\u001b[0;34m(\u001b[0m\u001b[0;34m)\u001b[0m\u001b[0;34m\u001b[0m\u001b[0;34m\u001b[0m\u001b[0m\n\u001b[0m\u001b[1;32m    423\u001b[0m         \u001b[0;32mexcept\u001b[0m \u001b[0mself\u001b[0m\u001b[0;34m.\u001b[0m\u001b[0merror_handler\u001b[0m\u001b[0;34m.\u001b[0m\u001b[0mknown_errors\u001b[0m \u001b[0;32mas\u001b[0m \u001b[0merror\u001b[0m\u001b[0;34m:\u001b[0m\u001b[0;34m\u001b[0m\u001b[0;34m\u001b[0m\u001b[0m\n\u001b[1;32m    424\u001b[0m             \u001b[0mself\u001b[0m\u001b[0;34m.\u001b[0m\u001b[0merror_handler\u001b[0m\u001b[0;34m.\u001b[0m\u001b[0mhandle\u001b[0m\u001b[0;34m(\u001b[0m\u001b[0merror\u001b[0m\u001b[0;34m,\u001b[0m \u001b[0mself\u001b[0m\u001b[0;34m.\u001b[0m\u001b[0munresolved_address\u001b[0m\u001b[0;34m)\u001b[0m\u001b[0;34m\u001b[0m\u001b[0;34m\u001b[0m\u001b[0m\n",
      "\u001b[0;32m~/anaconda3/lib/python3.7/site-packages/neobolt/direct.py\u001b[0m in \u001b[0;36m_fetch\u001b[0;34m(self)\u001b[0m\n\u001b[1;32m    462\u001b[0m         \u001b[0;32melif\u001b[0m \u001b[0msummary_signature\u001b[0m \u001b[0;34m==\u001b[0m \u001b[0;34mb\"\\x7F\"\u001b[0m\u001b[0;34m:\u001b[0m\u001b[0;34m\u001b[0m\u001b[0;34m\u001b[0m\u001b[0m\n\u001b[1;32m    463\u001b[0m             \u001b[0mlog_debug\u001b[0m\u001b[0;34m(\u001b[0m\u001b[0;34m\"[#%04X]  S: FAILURE %r\"\u001b[0m\u001b[0;34m,\u001b[0m \u001b[0mself\u001b[0m\u001b[0;34m.\u001b[0m\u001b[0mlocal_port\u001b[0m\u001b[0;34m,\u001b[0m \u001b[0msummary_metadata\u001b[0m\u001b[0;34m)\u001b[0m\u001b[0;34m\u001b[0m\u001b[0;34m\u001b[0m\u001b[0m\n\u001b[0;32m--> 464\u001b[0;31m             \u001b[0mresponse\u001b[0m\u001b[0;34m.\u001b[0m\u001b[0mon_failure\u001b[0m\u001b[0;34m(\u001b[0m\u001b[0msummary_metadata\u001b[0m \u001b[0;32mor\u001b[0m \u001b[0;34m{\u001b[0m\u001b[0;34m}\u001b[0m\u001b[0;34m)\u001b[0m\u001b[0;34m\u001b[0m\u001b[0;34m\u001b[0m\u001b[0m\n\u001b[0m\u001b[1;32m    465\u001b[0m         \u001b[0;32melse\u001b[0m\u001b[0;34m:\u001b[0m\u001b[0;34m\u001b[0m\u001b[0;34m\u001b[0m\u001b[0m\n\u001b[1;32m    466\u001b[0m             \u001b[0;32mraise\u001b[0m \u001b[0mProtocolError\u001b[0m\u001b[0;34m(\u001b[0m\u001b[0;34m\"Unexpected response message with signature %02X\"\u001b[0m \u001b[0;34m%\u001b[0m \u001b[0msummary_signature\u001b[0m\u001b[0;34m)\u001b[0m\u001b[0;34m\u001b[0m\u001b[0;34m\u001b[0m\u001b[0m\n",
      "\u001b[0;32m~/anaconda3/lib/python3.7/site-packages/neobolt/direct.py\u001b[0m in \u001b[0;36mon_failure\u001b[0;34m(self, metadata)\u001b[0m\n\u001b[1;32m    753\u001b[0m         \u001b[0mhandler\u001b[0m \u001b[0;34m=\u001b[0m \u001b[0mself\u001b[0m\u001b[0;34m.\u001b[0m\u001b[0mhandlers\u001b[0m\u001b[0;34m.\u001b[0m\u001b[0mget\u001b[0m\u001b[0;34m(\u001b[0m\u001b[0;34m\"on_failure\"\u001b[0m\u001b[0;34m)\u001b[0m\u001b[0;34m\u001b[0m\u001b[0;34m\u001b[0m\u001b[0m\n\u001b[1;32m    754\u001b[0m         \u001b[0;32mif\u001b[0m \u001b[0mcallable\u001b[0m\u001b[0;34m(\u001b[0m\u001b[0mhandler\u001b[0m\u001b[0;34m)\u001b[0m\u001b[0;34m:\u001b[0m\u001b[0;34m\u001b[0m\u001b[0;34m\u001b[0m\u001b[0m\n\u001b[0;32m--> 755\u001b[0;31m             \u001b[0mhandler\u001b[0m\u001b[0;34m(\u001b[0m\u001b[0mmetadata\u001b[0m\u001b[0;34m)\u001b[0m\u001b[0;34m\u001b[0m\u001b[0;34m\u001b[0m\u001b[0m\n\u001b[0m\u001b[1;32m    756\u001b[0m         \u001b[0mhandler\u001b[0m \u001b[0;34m=\u001b[0m \u001b[0mself\u001b[0m\u001b[0;34m.\u001b[0m\u001b[0mhandlers\u001b[0m\u001b[0;34m.\u001b[0m\u001b[0mget\u001b[0m\u001b[0;34m(\u001b[0m\u001b[0;34m\"on_summary\"\u001b[0m\u001b[0;34m)\u001b[0m\u001b[0;34m\u001b[0m\u001b[0;34m\u001b[0m\u001b[0m\n\u001b[1;32m    757\u001b[0m         \u001b[0;32mif\u001b[0m \u001b[0mcallable\u001b[0m\u001b[0;34m(\u001b[0m\u001b[0mhandler\u001b[0m\u001b[0;34m)\u001b[0m\u001b[0;34m:\u001b[0m\u001b[0;34m\u001b[0m\u001b[0;34m\u001b[0m\u001b[0m\n",
      "\u001b[0;32m~/anaconda3/lib/python3.7/site-packages/py2neo/internal/connectors.py\u001b[0m in \u001b[0;36m_fail\u001b[0;34m(cls, metadata)\u001b[0m\n\u001b[1;32m    286\u001b[0m     \u001b[0;32mdef\u001b[0m \u001b[0m_fail\u001b[0m\u001b[0;34m(\u001b[0m\u001b[0mcls\u001b[0m\u001b[0;34m,\u001b[0m \u001b[0mmetadata\u001b[0m\u001b[0;34m)\u001b[0m\u001b[0;34m:\u001b[0m\u001b[0;34m\u001b[0m\u001b[0;34m\u001b[0m\u001b[0m\n\u001b[1;32m    287\u001b[0m         \u001b[0;32mfrom\u001b[0m \u001b[0mpy2neo\u001b[0m\u001b[0;34m.\u001b[0m\u001b[0mdatabase\u001b[0m \u001b[0;32mimport\u001b[0m \u001b[0mGraphError\u001b[0m\u001b[0;34m\u001b[0m\u001b[0;34m\u001b[0m\u001b[0m\n\u001b[0;32m--> 288\u001b[0;31m         \u001b[0;32mraise\u001b[0m \u001b[0mGraphError\u001b[0m\u001b[0;34m.\u001b[0m\u001b[0mhydrate\u001b[0m\u001b[0;34m(\u001b[0m\u001b[0mmetadata\u001b[0m\u001b[0;34m)\u001b[0m\u001b[0;34m\u001b[0m\u001b[0;34m\u001b[0m\u001b[0m\n\u001b[0m\u001b[1;32m    289\u001b[0m \u001b[0;34m\u001b[0m\u001b[0m\n\u001b[1;32m    290\u001b[0m     \u001b[0;32mdef\u001b[0m \u001b[0mrun\u001b[0m\u001b[0;34m(\u001b[0m\u001b[0mself\u001b[0m\u001b[0;34m,\u001b[0m \u001b[0mstatement\u001b[0m\u001b[0;34m,\u001b[0m \u001b[0mparameters\u001b[0m\u001b[0;34m=\u001b[0m\u001b[0;32mNone\u001b[0m\u001b[0;34m,\u001b[0m \u001b[0mtx\u001b[0m\u001b[0;34m=\u001b[0m\u001b[0;32mNone\u001b[0m\u001b[0;34m,\u001b[0m \u001b[0mgraph\u001b[0m\u001b[0;34m=\u001b[0m\u001b[0;32mNone\u001b[0m\u001b[0;34m,\u001b[0m \u001b[0mkeys\u001b[0m\u001b[0;34m=\u001b[0m\u001b[0;32mNone\u001b[0m\u001b[0;34m,\u001b[0m \u001b[0mentities\u001b[0m\u001b[0;34m=\u001b[0m\u001b[0;32mNone\u001b[0m\u001b[0;34m)\u001b[0m\u001b[0;34m:\u001b[0m\u001b[0;34m\u001b[0m\u001b[0;34m\u001b[0m\u001b[0m\n",
      "\u001b[0;31mClientError\u001b[0m: SyntaxError: Variable `n` not defined (line 1, column 120 (offset: 119))\n\"MATCH (a1:Actor{name: 'Laurence Fishburne'})-[:ACTS_IN]->(m:Movie)<-[:ACTS_IN]-(a2:Actor{name: 'Keanu Reeves'}) return n,n2\"\n                                                                                                                        ^"
     ]
    }
   ],
   "source": [
    "query = \"MATCH (a1:Actor{name: 'Laurence Fishburne'})-[:ACTS_IN]->(m:Movie)<-[:ACTS_IN]-(a2:Actor{name: 'Keanu Reeves'}) return n,n2\"\n",
    "result = graph.run(query)\n",
    "result.to_table()"
   ]
  },
  {
   "cell_type": "code",
   "execution_count": 3,
   "metadata": {},
   "outputs": [
    {
     "data": {
      "text/html": [
       "<table><tr><th>p1</th><th>p2</th></tr><tr><td style=\"text-align:left\">(_3334:Person {born: 1961, id: 2, name: &#039;Laurence Fishburne&#039;, poster_image: &#039;https://image.tmdb.org/t/p/w185/mh0lZ1XsT84FayMNiT6Erh91mVu.jpg&#039;})</td><td style=\"text-align:left\">(_3342:Person {born: 1964, id: 10, name: &#039;Keanu Reeves&#039;, poster_image: &#039;https://image.tmdb.org/t/p/w185/id1qIb7cZs2eQno90KsKwG8VLGN.jpg&#039;})</td></tr></table>"
      ],
      "text/plain": [
       " p1                                                                                                                                              | p2                                                                                                                                         \n",
       "-------------------------------------------------------------------------------------------------------------------------------------------------|--------------------------------------------------------------------------------------------------------------------------------------------\n",
       " (_3334:Person {born: 1961, id: 2, name: 'Laurence Fishburne', poster_image: 'https://image.tmdb.org/t/p/w185/mh0lZ1XsT84FayMNiT6Erh91mVu.jpg'}) | (_3342:Person {born: 1964, id: 10, name: 'Keanu Reeves', poster_image: 'https://image.tmdb.org/t/p/w185/id1qIb7cZs2eQno90KsKwG8VLGN.jpg'}) "
      ]
     },
     "execution_count": 3,
     "metadata": {},
     "output_type": "execute_result"
    }
   ],
   "source": [
    "query = \"MATCH (p1:Person {name: 'Laurence Fishburne'}),(p2:Person {name: 'Keanu Reeves'}) RETURN *\"\n",
    "result = graph.run(query)\n",
    "result.to_table()"
   ]
  },
  {
   "cell_type": "markdown",
   "metadata": {},
   "source": [
    "(e) Write a Cypher query to retrieve 100 movies. Afterwards alter your query, to sort\n",
    "your results descending by their title."
   ]
  },
  {
   "cell_type": "code",
   "execution_count": 104,
   "metadata": {},
   "outputs": [
    {
     "name": "stdout",
     "output_type": "stream",
     "text": [
      "Matrix shape: (54, 3)\n",
      "                                              m.title  m.duration m.rated\n",
      "0                                        12 Angry Men          96      NR\n",
      "1                                    12 Years a Slave         134       R\n",
      "2                                      3 Days to Kill         113   PG-13\n",
      "3                              300: Rise of an Empire           0       R\n",
      "4                                     American Hustle         138       R\n",
      "5                                             Beowulf         115   PG-13\n",
      "6                                              Capote         114       R\n",
      "7                                         Cloud Atlas         172       R\n",
      "8                                  Dallas Buyers Club         117       R\n",
      "9                                             Elysium         109       R\n",
      "10                                               Epic         102      PG\n",
      "11                                              Fargo          98       R\n",
      "12                                         Fight Club         139       R\n",
      "13                                       Forrest Gump         142   PG-13\n",
      "14                                             Frozen         102      PG\n",
      "15                                         Goodfellas         146       R\n",
      "16                                            Gravity          91   PG-13\n",
      "17                     Hansel & Gretel: Witch Hunters          88       R\n",
      "18                                                Her         126       R\n",
      "19                                               Hugo         126      PG\n",
      "20                                          Inception         148   PG-13\n",
      "21                                Lost in Translation         102       R\n",
      "22                              Mr. Peabody & Sherman          92      PG\n",
      "23                                              Mulan          88       G\n",
      "24                    One Flew Over the Cuckoo's Nest         133       R\n",
      "25                                       Pulp Fiction         154       R\n",
      "26                                            RoboCop         102   PG-13\n",
      "27                                   Schindler's List         195       R\n",
      "28                                       Solomon Kane         104       R\n",
      "29                 Star Wars: Episode IV - A New Hope         121      PG\n",
      "30     Star Wars: Episode V - The Empire Strikes Back         124      PG\n",
      "31                                       The Avengers         143   PG-13\n",
      "32                                         The Croods          98      PG\n",
      "33                                    The Dark Knight         152   PG-13\n",
      "34                              The Dark Knight Rises         165   PG-13\n",
      "35                                      The Godfather         175       R\n",
      "36                             The Godfather: Part II         200       R\n",
      "37                    The Good\\, the Bad and the Ugly         161       R\n",
      "38                                      The Iron Lady         105   PG-13\n",
      "39                                  The King's Speech         118       R\n",
      "40                                     The LEGO Movie         100      PG\n",
      "41                                          The Lorax          86      PG\n",
      "42  The Lord of the Rings: The Fellowship of the Ring         178   PG-13\n",
      "43      The Lord of the Rings: The Return of the King         201   PG-13\n",
      "44              The Lord of the Rings: The Two Towers         179   PG-13\n",
      "45                                         The Matrix         136       R\n",
      "46                                The Matrix Reloaded         138       R\n",
      "47                             The Matrix Revolutions         129       R\n",
      "48                                  The Monuments Men         118   PG-13\n",
      "49                           The Shawshank Redemption         142       R\n",
      "50                           The Silence of the Lambs         118       R\n",
      "51                                   The Untouchables         119       R\n",
      "52                                 The Usual Suspects         106       R\n",
      "53                                There Will Be Blood         158       R\n"
     ]
    },
    {
     "data": {
      "text/plain": [
       "<seaborn.axisgrid.FacetGrid at 0x7ff625353750>"
      ]
     },
     "execution_count": 104,
     "metadata": {},
     "output_type": "execute_result"
    },
    {
     "data": {
      "image/png": "[encoded data removed]",
      "text/plain": [
       "<Figure size 432x288 with 1 Axes>"
      ]
     },
     "metadata": {
      "needs_background": "light"
     },
     "output_type": "display_data"
    },
    {
     "data": {
      "image/png": "[encoded data removed]",
      "text/plain": [
       "<Figure size 360x360 with 1 Axes>"
      ]
     },
     "metadata": {
      "needs_background": "light"
     },
     "output_type": "display_data"
    }
   ],
   "source": [
    "#query = \"MATCH (m:Movie) RETURN m.title LIMIT 100\"\n",
    "#result = graph.run(query)\n",
    "#result.to_table()\n",
    "import seaborn as sns\n",
    "A = graph.run(\"MATCH (m:Movie) RETURN m.title, m.duration, m.rated ORDER BY m.title LIMIT 100\").to_data_frame()\n",
    "print('Matrix shape:', A.shape)\n",
    "print(A)\n",
    "A.hist(['m.duration'], color = 'g')\n",
    "sns.catplot(x= 'm.rated', kind = 'count', data = A)"
   ]
  },
  {
   "cell_type": "markdown",
   "metadata": {},
   "source": [
    "Note: If you like you can install and run Neo4j yourself on your own computer.\n",
    "Then you can execute your queries directly in Neo4j. You will find guides in Moodle\n",
    "on how to setup Neo4j and how to import the Movies database."
   ]
  },
  {
   "cell_type": "code",
   "execution_count": 31,
   "metadata": {},
   "outputs": [
    {
     "data": {
      "text/html": [
       "<table><tr><th>m</th></tr><tr><td style=\"text-align:left\">(_3333:Movie {duration: 102, id: 3915, poster_image: &#039;http://image.tmdb.org/t/p/w185/5T8VvuFTdaawKLJk34i69Utaw7o.jpg&#039;, rated: &#039;R&#039;, summary: &#039;placeholder text&#039;, tagline: &#039;Everyone wants to be found.&#039;, title: &#039;Lost in Translation&#039;})</td></tr><tr><td style=\"text-align:left\">(_3332:Movie {duration: 114, id: 3753, poster_image: &#039;http://image.tmdb.org/t/p/w185/bf3nxeLglBvXH5jAnMLmhc56muB.jpg&#039;, rated: &#039;R&#039;, summary: &#039;placeholder text&#039;, tagline: &#039;In Cold Blood&#039;, title: &#039;Capote&#039;})</td></tr><tr><td style=\"text-align:left\">(_3331:Movie {duration: 119, id: 3680, poster_image: &#039;http://image.tmdb.org/t/p/w185/nv7FOs90Y3Cq5tBhEITEV8Zebyw.jpg&#039;, rated: &#039;R&#039;, summary: &#039;placeholder text&#039;, tagline: &#039;What are you prepared to do?&#039;, title: &#039;The Untouchables&#039;})</td></tr><tr><td style=\"text-align:left\">(_3330:Movie {duration: 105, id: 3624, poster_image: &#039;http://image.tmdb.org/t/p/w185/e67tal4u66eFz8yGnJGTO5FYRxY.jpg&#039;, rated: &#039;PG-13&#039;, summary: &#039;placeholder text&#039;, tagline: &#039;Never compromise&#039;, title: &#039;The Iron Lady&#039;})</td></tr><tr><td style=\"text-align:left\">(_3329:Movie {duration: 158, id: 3459, poster_image: &#039;http://image.tmdb.org/t/p/w185/bFgqkuAFBHNuq0oTtewHwuLVWSO.jpg&#039;, rated: &#039;R&#039;, summary: &#039;placeholder text&#039;, tagline: &#039;There Will Be Greed. There Will Be Vengeance.&#039;, title: &#039;There Will Be Blood&#039;})</td></tr><tr><td style=\"text-align:left\">(_3328:Movie {duration: 118, id: 3390, poster_image: &#039;http://image.tmdb.org/t/p/w185/v8M5Sytbut7vBXyZ1HDy8lUVVcB.jpg&#039;, rated: &#039;R&#039;, summary: &#039;placeholder text&#039;, tagline: &#039;Find your voice.&#039;, title: &quot;The King&#039;s Speech&quot;})</td></tr><tr><td style=\"text-align:left\">(_3327:Movie {duration: 118, id: 3252, poster_image: &#039;http://image.tmdb.org/t/p/w185/qjAyTj2BSth1EQ89vNfo0JYVPFN.jpg&#039;, rated: &#039;R&#039;, summary: &#039;placeholder text&#039;, tagline: &#039;To enter the mind of a killer she must challenge the mind of a madman.&#039;, title: &#039;The Silence of the Lambs&#039;})</td></tr><tr><td style=\"text-align:left\">(_3326:Movie {duration: 98, id: 3106, poster_image: &#039;http://image.tmdb.org/t/p/w185/aZeX4XNSqa08TdMHRB1gDLO6GOi.jpg&#039;, rated: &#039;R&#039;, summary: &#039;placeholder text&#039;, tagline: &#039;A lot can happen in the middle of nowhere.&#039;, title: &#039;Fargo&#039;})</td></tr><tr><td style=\"text-align:left\">(_3325:Movie {duration: 126, id: 2885, poster_image: &#039;http://image.tmdb.org/t/p/w185/fkeaJr29ypea1n24gzspsc7qK44.jpg&#039;, rated: &#039;PG&#039;, summary: &#039;placeholder text&#039;, tagline: &#039;One of the most legendary directors of our time takes you on an extraordinary adventure.&#039;, title: &#039;Hugo&#039;})</td></tr><tr><td style=\"text-align:left\">(_3324:Movie {duration: 106, id: 2767, poster_image: &#039;http://image.tmdb.org/t/p/w185/jgJoRWltoS17nD5MAQ1yK2Ztefw.jpg&#039;, rated: &#039;R&#039;, summary: &#039;placeholder text&#039;, tagline: &#039;Five Criminals . One Line Up . No Coincidence.&#039;, title: &#039;The Usual Suspects&#039;})</td></tr><tr><td style=\"text-align:left\">(_3323:Movie {duration: 104, id: 2654, poster_image: &#039;http://image.tmdb.org/t/p/w185/n5SHBE4ulsDDVa9gYttUYwp1VZU.jpg&#039;, rated: &#039;R&#039;, summary: &#039;placeholder text&#039;, tagline: &#039;Fight evil... With evil.&#039;, title: &#039;Solomon Kane&#039;})</td></tr><tr><td style=\"text-align:left\">(_3322:Movie {duration: 115, id: 2498, poster_image: &#039;http://image.tmdb.org/t/p/w185/j90lLkvlcPNL6VVoLGQ0yzPUfJV.jpg&#039;, rated: &#039;PG-13&#039;, summary: &#039;placeholder text&#039;, tagline: &#039;Evil breeds pain.&#039;, title: &#039;Beowulf&#039;})</td></tr><tr><td style=\"text-align:left\">(_3321:Movie {duration: 88, id: 2422, poster_image: &#039;http://image.tmdb.org/t/p/w185/ztD0iLfeyESQZV95GwPeSE3Uyqn.jpg&#039;, rated: &#039;G&#039;, summary: &#039;placeholder text&#039;, tagline: &#039;This time\\\\, the princess saves the prince.&#039;, title: &#039;Mulan&#039;})</td></tr><tr><td style=\"text-align:left\">(_3320:Movie {duration: 86, id: 2398, poster_image: &#039;http://image.tmdb.org/t/p/w185/6FuYtjegxaUv7n7C733hUEOQytR.jpg&#039;, rated: &#039;PG&#039;, summary: &#039;placeholder text&#039;, tagline: &#039;Meet The Original Force Of Nature&#039;, title: &#039;The Lorax&#039;})</td></tr><tr><td style=\"text-align:left\">(_3319:Movie {duration: 88, id: 2232, poster_image: &#039;http://image.tmdb.org/t/p/w185/yDIVWFJqFLIeS8E1R6GG9uwPMS3.jpg&#039;, rated: &#039;R&#039;, summary: &#039;placeholder text&#039;, tagline: &#039;Classic tale. New twist.&#039;, title: &#039;Hansel &amp; Gretel: Witch Hunters&#039;})</td></tr><tr><td style=\"text-align:left\">(_3318:Movie {duration: 143, id: 2055, poster_image: &#039;http://image.tmdb.org/t/p/w185/cezWGskPY5x7GaglTTRN4Fugfb8.jpg&#039;, rated: &#039;PG-13&#039;, summary: &#039;placeholder text&#039;, tagline: &#039;Some assembly required.&#039;, title: &#039;The Avengers&#039;})</td></tr><tr><td style=\"text-align:left\">(_3317:Movie {duration: 92, id: 2008, poster_image: &#039;http://image.tmdb.org/t/p/w185/qnmYfaopf7xJwLgVjeTdgZ4nI0v.jpg&#039;, rated: &#039;PG&#039;, summary: &#039;placeholder text&#039;, tagline: &#039;Amazing killing time&#039;, title: &#039;Mr. Peabody &amp; Sherman&#039;})</td></tr><tr><td style=\"text-align:left\">(_3316:Movie {duration: 98, id: 1935, poster_image: &#039;http://image.tmdb.org/t/p/w185/mo4WQxBxs6IU7fmkIOyMOLyG3qq.jpg&#039;, rated: &#039;PG&#039;, summary: &#039;placeholder text&#039;, tagline: &#039;Meet the first modern family.&#039;, title: &#039;The Croods&#039;})</td></tr><tr><td style=\"text-align:left\">(_3315:Movie {duration: 102, id: 1856, poster_image: &#039;http://image.tmdb.org/t/p/w185/fdXA81BOdZ3pEyBlY8UUvuJj136.jpg&#039;, rated: &#039;PG&#039;, summary: &#039;placeholder text&#039;, tagline: &#039;Discover a world beyond your imagination&#039;, title: &#039;Epic&#039;})</td></tr><tr><td style=\"text-align:left\">(_3314:Movie {duration: 109, id: 1768, poster_image: &#039;http://image.tmdb.org/t/p/w185/tHkjoAxmhp3Eau1h0Ir7maKMwUz.jpg&#039;, rated: &#039;R&#039;, summary: &#039;placeholder text&#039;, tagline: &#039;Amazing killing time&#039;, title: &#039;Elysium&#039;})</td></tr><tr><td style=\"text-align:left\">(_3313:Movie {duration: 134, id: 1693, poster_image: &#039;http://image.tmdb.org/t/p/w185/kb3X943WMIJYVg4SOAyK0pmWL5D.jpg&#039;, rated: &#039;R&#039;, summary: &#039;placeholder text&#039;, tagline: &#039;The extraordinary true story of Solomon Northup&#039;, title: &#039;12 Years a Slave&#039;})</td></tr><tr><td style=\"text-align:left\">(_3312:Movie {duration: 117, id: 1596, poster_image: &#039;http://image.tmdb.org/t/p/w185/ecb5z7VGKjfSQLPMwt1FOiPE5V0.jpg&#039;, rated: &#039;R&#039;, summary: &#039;placeholder text&#039;, tagline: &#039;Dare to Live&#039;, title: &#039;Dallas Buyers Club&#039;})</td></tr><tr><td style=\"text-align:left\">(_3311:Movie {duration: 126, id: 1550, poster_image: &#039;http://image.tmdb.org/t/p/w185/8f8Hisd36IN8jN1OpKxsxRu8i57.jpg&#039;, rated: &#039;R&#039;, summary: &#039;placeholder text&#039;, tagline: &#039;Amazing killing time&#039;, title: &#039;Her&#039;})</td></tr><tr><td style=\"text-align:left\">(_3310:Movie {duration: 102, id: 1412, poster_image: &#039;http://image.tmdb.org/t/p/w185/hFQcC5eSSHqJfk70RdgrMMxGuYt.jpg&#039;, rated: &#039;PG-13&#039;, summary: &#039;placeholder text&#039;, tagline: &quot;We&#039;ve got the future under control.&quot;, title: &#039;RoboCop&#039;})</td></tr><tr><td style=\"text-align:left\">(_3309:Movie {duration: 100, id: 1366, poster_image: &#039;http://image.tmdb.org/t/p/w185/lMHbadNmznKs5vgBAkHxKGHulOa.jpg&#039;, rated: &#039;PG&#039;, summary: &#039;placeholder text&#039;, tagline: &#039;Assembling in 2014&#039;, title: &#039;The LEGO Movie&#039;})</td></tr><tr><td style=\"text-align:left\">(_3308:Movie {duration: 118, id: 1356, poster_image: &#039;http://image.tmdb.org/t/p/w185/lhCUqVEPA3MMxnV8QTeVBTmRrP4.jpg&#039;, rated: &#039;PG-13&#039;, summary: &#039;placeholder text&#039;, tagline: &#039;It was the greatest art heist in history&#039;, title: &#039;The Monuments Men&#039;})</td></tr><tr><td style=\"text-align:left\">(_3307:Movie {duration: 91, id: 1293, poster_image: &#039;http://image.tmdb.org/t/p/w185/2gPjLWIyrWlAn2DgKMOKTBnZYyO.jpg&#039;, rated: &#039;PG-13&#039;, summary: &#039;placeholder text&#039;, tagline: &quot;Don&#039;t Let Go&quot;, title: &#039;Gravity&#039;})</td></tr><tr><td style=\"text-align:left\">(_3306:Movie {duration: 102, id: 1241, poster_image: &#039;http://image.tmdb.org/t/p/w185/qb4ls8KzTJMFPEwNOfM7FotfC4Y.jpg&#039;, rated: &#039;PG&#039;, summary: &#039;placeholder text&#039;, tagline: &#039;Amazing killing time&#039;, title: &#039;Frozen&#039;})</td></tr><tr><td style=\"text-align:left\">(_3305:Movie {duration: 138, id: 1118, poster_image: &#039;http://image.tmdb.org/t/p/w185/mhB7C62lSMpGO2HYNaW6d7W3TVH.jpg&#039;, rated: &#039;R&#039;, summary: &#039;placeholder text&#039;, tagline: &#039;Everyone Hustles To Survive&#039;, title: &#039;American Hustle&#039;})</td></tr><tr><td style=\"text-align:left\">(_3304:Movie {duration: 0, id: 1097, poster_image: &#039;http://image.tmdb.org/t/p/w185/hrOMW22FV86te7uLyRnp3Z6Nv6e.jpg&#039;, rated: &#039;R&#039;, summary: &#039;placeholder text&#039;, tagline: &#039;Amazing killing time&#039;, title: &#039;300: Rise of an Empire&#039;})</td></tr><tr><td style=\"text-align:left\">(_3303:Movie {duration: 113, id: 1096, poster_image: &#039;http://image.tmdb.org/t/p/w185/53pam1GAosXwOjefCEVNjYTvy6j.jpg&#039;, rated: &#039;PG-13&#039;, summary: &#039;placeholder text&#039;, tagline: &#039;amazing killing time&#039;, title: &#039;3 Days to Kill&#039;})</td></tr><tr><td style=\"text-align:left\">(_3302:Movie {duration: 121, id: 805, poster_image: &#039;http://image.tmdb.org/t/p/w185/tvSlBzAdRE29bZe5yYWrJ2ds137.jpg&#039;, rated: &#039;PG&#039;, summary: &#039;Princess Leia is captured and held hostage by the evil Imperial forces in their effort to take over the galactic Empire. Venturesome Luke Skywalker and dashing captain Han Solo team together with the loveable robot duo R2-D2 and C-3PO to rescue the beautiful princess and restore peace and justice in the Empire.&#039;, tagline: &#039;A long time ago in a galaxy far\\\\, far away...&#039;, title: &#039;Star Wars: Episode IV - A New Hope&#039;})</td></tr><tr><td style=\"text-align:left\">(_3301:Movie {duration: 179, id: 797, poster_image: &#039;http://image.tmdb.org/t/p/w185/9mBjBuUmBBgnGjV1JZ2uCIYbaph.jpg&#039;, rated: &#039;PG-13&#039;, summary: &#039;Frodo and Sam are trekking to Mordor to destroy the One Ring of Power while Gimli, Legolas and Aragorn search for the orc-captured Merry and Pippin. All along, nefarious wizard Saruman awaits the Fellowship members at the Orthanc Tower in Isengard.&#039;, tagline: &#039;A New Power Is Rising.&#039;, title: &#039;The Lord of the Rings: The Two Towers&#039;})</td></tr><tr><td style=\"text-align:left\">(_3300:Movie {duration: 146, id: 781, poster_image: &#039;http://image.tmdb.org/t/p/w185/pwpGfTImTGifEGgLb3s6LRPd4I6.jpg&#039;, rated: &#039;R&#039;, summary: &#039;placeholder text&#039;, tagline: &#039;Three Decades of Life in the Mafia.&#039;, title: &#039;Goodfellas&#039;})</td></tr><tr><td style=\"text-align:left\">(_3299:Movie {duration: 142, id: 770, poster_image: &#039;http://image.tmdb.org/t/p/w185/z4ROnCrL77ZMzT0MsNXY5j25wS2.jpg&#039;, rated: &#039;PG-13&#039;, summary: &quot;A man with a low IQ has accomplished great things in his life and been present during significant historic events - in each case, far exceeding what anyone imagined he could do. Yet, despite all the things he has attained, his one true love eludes him. &#039;Forrest Gump&#039; is the story of a man who rose above his challenges, and who proved that determination, courage, and love are more important than ability.&quot;, tagline: &quot;The world will never be the same\\\\, once you&#039;ve seen it through the eyes of Forrest Gump.&quot;, title: &#039;Forrest Gump&#039;})</td></tr><tr><td style=\"text-align:left\">(_3298:Movie {duration: 133, id: 750, poster_image: &#039;http://image.tmdb.org/t/p/w185/srr59GKJdDXPwnWlew9NoYfOvYV.jpg&#039;, rated: &#039;R&#039;, summary: &#039;placeholder text&#039;, tagline: &quot;If he&#039;s crazy\\\\, what does that make you?&quot;, title: &quot;One Flew Over the Cuckoo&#039;s Nest&quot;})</td></tr><tr><td style=\"text-align:left\">(_3297:Movie {duration: 148, id: 737, poster_image: &#039;http://image.tmdb.org/t/p/w185/tAXARVreJnWfoANIHASmgYk4SB0.jpg&#039;, rated: &#039;PG-13&#039;, summary: &#039;placeholder text&#039;, tagline: &#039;Your mind is the scene of the crime.&#039;, title: &#039;Inception&#039;})</td></tr><tr><td style=\"text-align:left\">(_3296:Movie {duration: 124, id: 710, poster_image: &#039;http://image.tmdb.org/t/p/w185/6u1fYtxG5eqjhtCPDx04pJphQRW.jpg&#039;, rated: &#039;PG&#039;, summary: &#039;placeholder text&#039;, tagline: &#039;The Adventure Continues...&#039;, title: &#039;Star Wars: Episode V - The Empire Strikes Back&#039;})</td></tr><tr><td style=\"text-align:left\">(_3295:Movie {duration: 178, id: 698, poster_image: &#039;http://image.tmdb.org/t/p/w185/9HG6pINW1KoFTAKY3LdybkoOKAm.jpg&#039;, rated: &#039;PG-13&#039;, summary: &#039;Young hobbit Frodo Baggins, after inheriting a mysterious ring from his uncle Bilbo, must leave his home in order to keep it from falling into the hands of its evil creator. Along the way, a fellowship is formed to protect the ringbearer and make sure that the ring arrives at its final destination: Mt. Doom, the only place where it can be destroyed.&#039;, tagline: &#039;One ring to rule them all&#039;, title: &#039;The Lord of the Rings: The Fellowship of the Ring&#039;})</td></tr><tr><td style=\"text-align:left\">(_3294:Movie {duration: 139, id: 681, poster_image: &#039;http://image.tmdb.org/t/p/w185/2lECpi35Hnbpa4y46JX0aY3AWTy.jpg&#039;, rated: &#039;R&#039;, summary: &#039;placeholder text&#039;, tagline: &quot;How much can you know about yourself if you&#039;ve never been in a fight?&quot;, title: &#039;Fight Club&#039;})</td></tr><tr><td style=\"text-align:left\">(_3293:Movie {duration: 201, id: 641, poster_image: &#039;http://image.tmdb.org/t/p/w185/50LoR9gJhbWZ5PpoHgi8MNTYgzd.jpg&#039;, rated: &#039;PG-13&#039;, summary: &quot;Aragorn is revealed as the heir to the ancient kings as he, Gandalf and the other members of the broken fellowship struggle to save Gondor from Sauron&#039;s forces. Meanwhile, Frodo and Sam bring the ring closer to the heart of Mordor, the dark lord&#039;s realm.&quot;, tagline: &#039;The eye of the enemy is moving.&#039;, title: &#039;The Lord of the Rings: The Return of the King&#039;})</td></tr><tr><td style=\"text-align:left\">(_3292:Movie {duration: 96, id: 615, poster_image: &#039;http://image.tmdb.org/t/p/w185/wvlFtIwh0GIqHRAz9F5cCch2IJD.jpg&#039;, rated: &#039;NR&#039;, summary: &#039;placeholder text&#039;, tagline: &#039;Life is in their hands. Death is on their minds.&#039;, title: &#039;12 Angry Men&#039;})</td></tr><tr><td style=\"text-align:left\">(_3291:Movie {duration: 195, id: 598, poster_image: &#039;http://image.tmdb.org/t/p/w185/tvOvW7Qjj63zbQW5TZ8CjPThAUd.jpg&#039;, rated: &#039;R&#039;, summary: &#039;placeholder text&#039;, tagline: &#039;Whoever saves one life\\\\, saves the world entire.&#039;, title: &quot;Schindler&#039;s List&quot;})</td></tr><tr><td style=\"text-align:left\">(_3290:Movie {duration: 165, id: 564, poster_image: &#039;http://image.tmdb.org/t/p/w185/dEYnvnUfXrqvqeRSqvIEtmzhoA8.jpg&#039;, rated: &#039;PG-13&#039;, summary: &#039;placeholder text&#039;, tagline: &#039;The Legend Ends&#039;, title: &#039;The Dark Knight Rises&#039;})</td></tr><tr><td style=\"text-align:left\">(_3289:Movie {duration: 152, id: 532, poster_image: &#039;http://image.tmdb.org/t/p/w185/1hRoyzDtpgMU7Dz4JF22RANzQO7.jpg&#039;, rated: &#039;PG-13&#039;, summary: &#039;placeholder text&#039;, tagline: &#039;Why So Serious?&#039;, title: &#039;The Dark Knight&#039;})</td></tr><tr><td style=\"text-align:left\">(_3288:Movie {duration: 161, id: 517, poster_image: &#039;http://image.tmdb.org/t/p/w185/8PD1dgf0kQHtRawoSxp1jFemI1q.jpg&#039;, rated: &#039;R&#039;, summary: &#039;placeholder text&#039;, tagline: &quot;For three men the Civil War wasn&#039;t hell. It was practice.&quot;, title: &#039;The Good\\\\, the Bad and the Ugly&#039;})</td></tr><tr><td style=\"text-align:left\">(_3287:Movie {duration: 200, id: 496, poster_image: &#039;http://image.tmdb.org/t/p/w185/tHbMIIF51rguMNSastqoQwR0sBs.jpg&#039;, rated: &#039;R&#039;, summary: &#039;placeholder text&#039;, tagline: &quot;I don&#039;t feel I have to wipe everybody out\\\\, Tom. Just my enemies.&quot;, title: &#039;The Godfather: Part II&#039;})</td></tr><tr><td style=\"text-align:left\">(_3286:Movie {duration: 175, id: 471, poster_image: &#039;http://image.tmdb.org/t/p/w185/d4KNaTrltq6bpkFS01pYtyXa09m.jpg&#039;, rated: &#039;R&#039;, summary: &#039;placeholder text&#039;, tagline: &quot;An offer you can&#039;t refuse.&quot;, title: &#039;The Godfather&#039;})</td></tr><tr><td style=\"text-align:left\">(_3285:Movie {duration: 142, id: 457, poster_image: &#039;http://image.tmdb.org/t/p/w185/9O7gLzmreU0nGkIB6K3BsJbzvNv.jpg&#039;, rated: &#039;R&#039;, summary: &#039;placeholder text&#039;, tagline: &#039;Fear can hold you prisoner. Hope can set you free.&#039;, title: &#039;The Shawshank Redemption&#039;})</td></tr><tr><td style=\"text-align:left\">(_3284:Movie {duration: 172, id: 130, poster_image: &#039;http://image.tmdb.org/t/p/w185/k9gWDjfXM80iXQLuMvPlZgSFJgR.jpg&#039;, rated: &#039;R&#039;, summary: &#039;placeholder text&#039;, tagline: &#039;Everything is Connected&#039;, title: &#039;Cloud Atlas&#039;})</td></tr><tr><td style=\"text-align:left\">(_3283:Movie {duration: 154, id: 82, poster_image: &#039;http://image.tmdb.org/t/p/w185/dM2w364MScsjFf8pfMbaWUcWrR.jpg&#039;, rated: &#039;R&#039;, summary: &#039;placeholder text&#039;, tagline: &quot;Just because you are a character doesn&#039;t mean you have character.&quot;, title: &#039;Pulp Fiction&#039;})</td></tr><tr><td style=\"text-align:left\">(_3282:Movie {duration: 129, id: 68, poster_image: &#039;http://image.tmdb.org/t/p/w185/sKogjhfs5q3azmpW7DFKKAeLEG8.jpg&#039;, rated: &#039;R&#039;, summary: &#039;The human city of Zion defends itself against the massive invasion of the machines as Neo fights to end the war at another front while also opposing the rogue Agent Smith.&#039;, tagline: &#039;Everything that has a beginning has an end.&#039;, title: &#039;The Matrix Revolutions&#039;})</td></tr><tr><td style=\"text-align:left\">(_3281:Movie {duration: 138, id: 28, poster_image: &#039;http://image.tmdb.org/t/p/w185/ezIurBz2fdUc68d98Fp9dRf5ihv.jpg&#039;, rated: &#039;R&#039;, summary: &quot;Six months after the events depicted in The Matrix, Neo has proved to be a good omen for the free humans, as more and more humans are being freed from the matrix and brought to Zion, the one and only stronghold of the Resistance. Neo himself has discovered his superpowers including super speed, ability to see the codes of the things inside the matrix and a certain degree of pre-cognition. But a nasty piece of news hits the human resistance: 250,000 machine sentinels are digging to Zion and would reach them in 72 hours. As Zion prepares for the ultimate war, Neo, Morpheus and Trinity are advised by the Oracle to find the Keymaker who would help them reach the Source. Meanwhile Neo&#039;s recurrent dreams depicting Trinity&#039;s death have got him worried and as if it was not enough, Agent Smith has somehow escaped deletion, has become more powerful than before and has fixed Neo as his next target.&quot;, tagline: &#039;Free your mind.&#039;, title: &#039;The Matrix Reloaded&#039;})</td></tr><tr><td style=\"text-align:left\">(_3280:Movie {duration: 136, id: 1, poster_image: &#039;http://image.tmdb.org/t/p/w185/gynBNzwyaHKtXqlEKKLioNkjKgN.jpg&#039;, rated: &#039;R&#039;, summary: &#039;Thomas A. Anderson is a man living two lives. By day he is an average computer programmer and by night a malevolent hacker known as Neo, who finds himself targeted by the police when he is contacted by Morpheus, a legendary computer hacker, who reveals the shocking truth about our reality.&#039;, tagline: &#039;Welcome to the Real World.&#039;, title: &#039;The Matrix&#039;})</td></tr></table>"
      ],
      "text/plain": [
       " m                                                                                                                                                                                                                                                                                                                                                                                                                                                                                                                                                                                                                                                                                                                                                                                                                                                                                                                                                                                                                                                                                                                                            \n",
       "----------------------------------------------------------------------------------------------------------------------------------------------------------------------------------------------------------------------------------------------------------------------------------------------------------------------------------------------------------------------------------------------------------------------------------------------------------------------------------------------------------------------------------------------------------------------------------------------------------------------------------------------------------------------------------------------------------------------------------------------------------------------------------------------------------------------------------------------------------------------------------------------------------------------------------------------------------------------------------------------------------------------------------------------------------------------------------------------------------------------------------------------\n",
       " (_3333:Movie {duration: 102, id: 3915, poster_image: 'http://image.tmdb.org/t/p/w185/5T8VvuFTdaawKLJk34i69Utaw7o.jpg', rated: 'R', summary: 'placeholder text', tagline: 'Everyone wants to be found.', title: 'Lost in Translation'})                                                                                                                                                                                                                                                                                                                                                                                                                                                                                                                                                                                                                                                                                                                                                                                                                                                                                                       \n",
       " (_3332:Movie {duration: 114, id: 3753, poster_image: 'http://image.tmdb.org/t/p/w185/bf3nxeLglBvXH5jAnMLmhc56muB.jpg', rated: 'R', summary: 'placeholder text', tagline: 'In Cold Blood', title: 'Capote'})                                                                                                                                                                                                                                                                                                                                                                                                                                                                                                                                                                                                                                                                                                                                                                                                                                                                                                                                  \n",
       " (_3331:Movie {duration: 119, id: 3680, poster_image: 'http://image.tmdb.org/t/p/w185/nv7FOs90Y3Cq5tBhEITEV8Zebyw.jpg', rated: 'R', summary: 'placeholder text', tagline: 'What are you prepared to do?', title: 'The Untouchables'})                                                                                                                                                                                                                                                                                                                                                                                                                                                                                                                                                                                                                                                                                                                                                                                                                                                                                                         \n",
       " (_3330:Movie {duration: 105, id: 3624, poster_image: 'http://image.tmdb.org/t/p/w185/e67tal4u66eFz8yGnJGTO5FYRxY.jpg', rated: 'PG-13', summary: 'placeholder text', tagline: 'Never compromise', title: 'The Iron Lady'})                                                                                                                                                                                                                                                                                                                                                                                                                                                                                                                                                                                                                                                                                                                                                                                                                                                                                                                    \n",
       " (_3329:Movie {duration: 158, id: 3459, poster_image: 'http://image.tmdb.org/t/p/w185/bFgqkuAFBHNuq0oTtewHwuLVWSO.jpg', rated: 'R', summary: 'placeholder text', tagline: 'There Will Be Greed. There Will Be Vengeance.', title: 'There Will Be Blood'})                                                                                                                                                                                                                                                                                                                                                                                                                                                                                                                                                                                                                                                                                                                                                                                                                                                                                     \n",
       " (_3328:Movie {duration: 118, id: 3390, poster_image: 'http://image.tmdb.org/t/p/w185/v8M5Sytbut7vBXyZ1HDy8lUVVcB.jpg', rated: 'R', summary: 'placeholder text', tagline: 'Find your voice.', title: \"The King's Speech\"})                                                                                                                                                                                                                                                                                                                                                                                                                                                                                                                                                                                                                                                                                                                                                                                                                                                                                                                    \n",
       " (_3327:Movie {duration: 118, id: 3252, poster_image: 'http://image.tmdb.org/t/p/w185/qjAyTj2BSth1EQ89vNfo0JYVPFN.jpg', rated: 'R', summary: 'placeholder text', tagline: 'To enter the mind of a killer she must challenge the mind of a madman.', title: 'The Silence of the Lambs'})                                                                                                                                                                                                                                                                                                                                                                                                                                                                                                                                                                                                                                                                                                                                                                                                                                                       \n",
       " (_3326:Movie {duration: 98, id: 3106, poster_image: 'http://image.tmdb.org/t/p/w185/aZeX4XNSqa08TdMHRB1gDLO6GOi.jpg', rated: 'R', summary: 'placeholder text', tagline: 'A lot can happen in the middle of nowhere.', title: 'Fargo'})                                                                                                                                                                                                                                                                                                                                                                                                                                                                                                                                                                                                                                                                                                                                                                                                                                                                                                       \n",
       " (_3325:Movie {duration: 126, id: 2885, poster_image: 'http://image.tmdb.org/t/p/w185/fkeaJr29ypea1n24gzspsc7qK44.jpg', rated: 'PG', summary: 'placeholder text', tagline: 'One of the most legendary directors of our time takes you on an extraordinary adventure.', title: 'Hugo'})                                                                                                                                                                                                                                                                                                                                                                                                                                                                                                                                                                                                                                                                                                                                                                                                                                                        \n",
       " (_3324:Movie {duration: 106, id: 2767, poster_image: 'http://image.tmdb.org/t/p/w185/jgJoRWltoS17nD5MAQ1yK2Ztefw.jpg', rated: 'R', summary: 'placeholder text', tagline: 'Five Criminals . One Line Up . No Coincidence.', title: 'The Usual Suspects'})                                                                                                                                                                                                                                                                                                                                                                                                                                                                                                                                                                                                                                                                                                                                                                                                                                                                                     \n",
       " (_3323:Movie {duration: 104, id: 2654, poster_image: 'http://image.tmdb.org/t/p/w185/n5SHBE4ulsDDVa9gYttUYwp1VZU.jpg', rated: 'R', summary: 'placeholder text', tagline: 'Fight evil... With evil.', title: 'Solomon Kane'})                                                                                                                                                                                                                                                                                                                                                                                                                                                                                                                                                                                                                                                                                                                                                                                                                                                                                                                 \n",
       " (_3322:Movie {duration: 115, id: 2498, poster_image: 'http://image.tmdb.org/t/p/w185/j90lLkvlcPNL6VVoLGQ0yzPUfJV.jpg', rated: 'PG-13', summary: 'placeholder text', tagline: 'Evil breeds pain.', title: 'Beowulf'})                                                                                                                                                                                                                                                                                                                                                                                                                                                                                                                                                                                                                                                                                                                                                                                                                                                                                                                         \n",
       " (_3321:Movie {duration: 88, id: 2422, poster_image: 'http://image.tmdb.org/t/p/w185/ztD0iLfeyESQZV95GwPeSE3Uyqn.jpg', rated: 'G', summary: 'placeholder text', tagline: 'This time\\\\, the princess saves the prince.', title: 'Mulan'})                                                                                                                                                                                                                                                                                                                                                                                                                                                                                                                                                                                                                                                                                                                                                                                                                                                                                                      \n",
       " (_3320:Movie {duration: 86, id: 2398, poster_image: 'http://image.tmdb.org/t/p/w185/6FuYtjegxaUv7n7C733hUEOQytR.jpg', rated: 'PG', summary: 'placeholder text', tagline: 'Meet The Original Force Of Nature', title: 'The Lorax'})                                                                                                                                                                                                                                                                                                                                                                                                                                                                                                                                                                                                                                                                                                                                                                                                                                                                                                           \n",
       " (_3319:Movie {duration: 88, id: 2232, poster_image: 'http://image.tmdb.org/t/p/w185/yDIVWFJqFLIeS8E1R6GG9uwPMS3.jpg', rated: 'R', summary: 'placeholder text', tagline: 'Classic tale. New twist.', title: 'Hansel & Gretel: Witch Hunters'})                                                                                                                                                                                                                                                                                                                                                                                                                                                                                                                                                                                                                                                                                                                                                                                                                                                                                                \n",
       " (_3318:Movie {duration: 143, id: 2055, poster_image: 'http://image.tmdb.org/t/p/w185/cezWGskPY5x7GaglTTRN4Fugfb8.jpg', rated: 'PG-13', summary: 'placeholder text', tagline: 'Some assembly required.', title: 'The Avengers'})                                                                                                                                                                                                                                                                                                                                                                                                                                                                                                                                                                                                                                                                                                                                                                                                                                                                                                              \n",
       " (_3317:Movie {duration: 92, id: 2008, poster_image: 'http://image.tmdb.org/t/p/w185/qnmYfaopf7xJwLgVjeTdgZ4nI0v.jpg', rated: 'PG', summary: 'placeholder text', tagline: 'Amazing killing time', title: 'Mr. Peabody & Sherman'})                                                                                                                                                                                                                                                                                                                                                                                                                                                                                                                                                                                                                                                                                                                                                                                                                                                                                                            \n",
       " (_3316:Movie {duration: 98, id: 1935, poster_image: 'http://image.tmdb.org/t/p/w185/mo4WQxBxs6IU7fmkIOyMOLyG3qq.jpg', rated: 'PG', summary: 'placeholder text', tagline: 'Meet the first modern family.', title: 'The Croods'})                                                                                                                                                                                                                                                                                                                                                                                                                                                                                                                                                                                                                                                                                                                                                                                                                                                                                                              \n",
       " (_3315:Movie {duration: 102, id: 1856, poster_image: 'http://image.tmdb.org/t/p/w185/fdXA81BOdZ3pEyBlY8UUvuJj136.jpg', rated: 'PG', summary: 'placeholder text', tagline: 'Discover a world beyond your imagination', title: 'Epic'})                                                                                                                                                                                                                                                                                                                                                                                                                                                                                                                                                                                                                                                                                                                                                                                                                                                                                                        \n",
       " (_3314:Movie {duration: 109, id: 1768, poster_image: 'http://image.tmdb.org/t/p/w185/tHkjoAxmhp3Eau1h0Ir7maKMwUz.jpg', rated: 'R', summary: 'placeholder text', tagline: 'Amazing killing time', title: 'Elysium'})                                                                                                                                                                                                                                                                                                                                                                                                                                                                                                                                                                                                                                                                                                                                                                                                                                                                                                                          \n",
       " (_3313:Movie {duration: 134, id: 1693, poster_image: 'http://image.tmdb.org/t/p/w185/kb3X943WMIJYVg4SOAyK0pmWL5D.jpg', rated: 'R', summary: 'placeholder text', tagline: 'The extraordinary true story of Solomon Northup', title: '12 Years a Slave'})                                                                                                                                                                                                                                                                                                                                                                                                                                                                                                                                                                                                                                                                                                                                                                                                                                                                                      \n",
       " (_3312:Movie {duration: 117, id: 1596, poster_image: 'http://image.tmdb.org/t/p/w185/ecb5z7VGKjfSQLPMwt1FOiPE5V0.jpg', rated: 'R', summary: 'placeholder text', tagline: 'Dare to Live', title: 'Dallas Buyers Club'})                                                                                                                                                                                                                                                                                                                                                                                                                                                                                                                                                                                                                                                                                                                                                                                                                                                                                                                       \n",
       " (_3311:Movie {duration: 126, id: 1550, poster_image: 'http://image.tmdb.org/t/p/w185/8f8Hisd36IN8jN1OpKxsxRu8i57.jpg', rated: 'R', summary: 'placeholder text', tagline: 'Amazing killing time', title: 'Her'})                                                                                                                                                                                                                                                                                                                                                                                                                                                                                                                                                                                                                                                                                                                                                                                                                                                                                                                              \n",
       " (_3310:Movie {duration: 102, id: 1412, poster_image: 'http://image.tmdb.org/t/p/w185/hFQcC5eSSHqJfk70RdgrMMxGuYt.jpg', rated: 'PG-13', summary: 'placeholder text', tagline: \"We've got the future under control.\", title: 'RoboCop'})                                                                                                                                                                                                                                                                                                                                                                                                                                                                                                                                                                                                                                                                                                                                                                                                                                                                                                       \n",
       " (_3309:Movie {duration: 100, id: 1366, poster_image: 'http://image.tmdb.org/t/p/w185/lMHbadNmznKs5vgBAkHxKGHulOa.jpg', rated: 'PG', summary: 'placeholder text', tagline: 'Assembling in 2014', title: 'The LEGO Movie'})                                                                                                                                                                                                                                                                                                                                                                                                                                                                                                                                                                                                                                                                                                                                                                                                                                                                                                                    \n",
       " (_3308:Movie {duration: 118, id: 1356, poster_image: 'http://image.tmdb.org/t/p/w185/lhCUqVEPA3MMxnV8QTeVBTmRrP4.jpg', rated: 'PG-13', summary: 'placeholder text', tagline: 'It was the greatest art heist in history', title: 'The Monuments Men'})                                                                                                                                                                                                                                                                                                                                                                                                                                                                                                                                                                                                                                                                                                                                                                                                                                                                                        \n",
       " (_3307:Movie {duration: 91, id: 1293, poster_image: 'http://image.tmdb.org/t/p/w185/2gPjLWIyrWlAn2DgKMOKTBnZYyO.jpg', rated: 'PG-13', summary: 'placeholder text', tagline: \"Don't Let Go\", title: 'Gravity'})                                                                                                                                                                                                                                                                                                                                                                                                                                                                                                                                                                                                                                                                                                                                                                                                                                                                                                                               \n",
       " (_3306:Movie {duration: 102, id: 1241, poster_image: 'http://image.tmdb.org/t/p/w185/qb4ls8KzTJMFPEwNOfM7FotfC4Y.jpg', rated: 'PG', summary: 'placeholder text', tagline: 'Amazing killing time', title: 'Frozen'})                                                                                                                                                                                                                                                                                                                                                                                                                                                                                                                                                                                                                                                                                                                                                                                                                                                                                                                          \n",
       " (_3305:Movie {duration: 138, id: 1118, poster_image: 'http://image.tmdb.org/t/p/w185/mhB7C62lSMpGO2HYNaW6d7W3TVH.jpg', rated: 'R', summary: 'placeholder text', tagline: 'Everyone Hustles To Survive', title: 'American Hustle'})                                                                                                                                                                                                                                                                                                                                                                                                                                                                                                                                                                                                                                                                                                                                                                                                                                                                                                           \n",
       " (_3304:Movie {duration: 0, id: 1097, poster_image: 'http://image.tmdb.org/t/p/w185/hrOMW22FV86te7uLyRnp3Z6Nv6e.jpg', rated: 'R', summary: 'placeholder text', tagline: 'Amazing killing time', title: '300: Rise of an Empire'})                                                                                                                                                                                                                                                                                                                                                                                                                                                                                                                                                                                                                                                                                                                                                                                                                                                                                                             \n",
       " (_3303:Movie {duration: 113, id: 1096, poster_image: 'http://image.tmdb.org/t/p/w185/53pam1GAosXwOjefCEVNjYTvy6j.jpg', rated: 'PG-13', summary: 'placeholder text', tagline: 'amazing killing time', title: '3 Days to Kill'})                                                                                                                                                                                                                                                                                                                                                                                                                                                                                                                                                                                                                                                                                                                                                                                                                                                                                                               \n",
       " (_3302:Movie {duration: 121, id: 805, poster_image: 'http://image.tmdb.org/t/p/w185/tvSlBzAdRE29bZe5yYWrJ2ds137.jpg', rated: 'PG', summary: 'Princess Leia is captured and held hostage by the evil Imperial forces in their effort to take over the galactic Empire. Venturesome Luke Skywalker and dashing captain Han Solo team together with the loveable robot duo R2-D2 and C-3PO to rescue the beautiful princess and restore peace and justice in the Empire.', tagline: 'A long time ago in a galaxy far\\\\, far away...', title: 'Star Wars: Episode IV - A New Hope'})                                                                                                                                                                                                                                                                                                                                                                                                                                                                                                                                                             \n",
       " (_3301:Movie {duration: 179, id: 797, poster_image: 'http://image.tmdb.org/t/p/w185/9mBjBuUmBBgnGjV1JZ2uCIYbaph.jpg', rated: 'PG-13', summary: 'Frodo and Sam are trekking to Mordor to destroy the One Ring of Power while Gimli, Legolas and Aragorn search for the orc-captured Merry and Pippin. All along, nefarious wizard Saruman awaits the Fellowship members at the Orthanc Tower in Isengard.', tagline: 'A New Power Is Rising.', title: 'The Lord of the Rings: The Two Towers'})                                                                                                                                                                                                                                                                                                                                                                                                                                                                                                                                                                                                                                               \n",
       " (_3300:Movie {duration: 146, id: 781, poster_image: 'http://image.tmdb.org/t/p/w185/pwpGfTImTGifEGgLb3s6LRPd4I6.jpg', rated: 'R', summary: 'placeholder text', tagline: 'Three Decades of Life in the Mafia.', title: 'Goodfellas'})                                                                                                                                                                                                                                                                                                                                                                                                                                                                                                                                                                                                                                                                                                                                                                                                                                                                                                         \n",
       " (_3299:Movie {duration: 142, id: 770, poster_image: 'http://image.tmdb.org/t/p/w185/z4ROnCrL77ZMzT0MsNXY5j25wS2.jpg', rated: 'PG-13', summary: \"A man with a low IQ has accomplished great things in his life and been present during significant historic events - in each case, far exceeding what anyone imagined he could do. Yet, despite all the things he has attained, his one true love eludes him. 'Forrest Gump' is the story of a man who rose above his challenges, and who proved that determination, courage, and love are more important than ability.\", tagline: \"The world will never be the same\\\\, once you've seen it through the eyes of Forrest Gump.\", title: 'Forrest Gump'})                                                                                                                                                                                                                                                                                                                                                                                                                                       \n",
       " (_3298:Movie {duration: 133, id: 750, poster_image: 'http://image.tmdb.org/t/p/w185/srr59GKJdDXPwnWlew9NoYfOvYV.jpg', rated: 'R', summary: 'placeholder text', tagline: \"If he's crazy\\\\, what does that make you?\", title: \"One Flew Over the Cuckoo's Nest\"})                                                                                                                                                                                                                                                                                                                                                                                                                                                                                                                                                                                                                                                                                                                                                                                                                                                                              \n",
       " (_3297:Movie {duration: 148, id: 737, poster_image: 'http://image.tmdb.org/t/p/w185/tAXARVreJnWfoANIHASmgYk4SB0.jpg', rated: 'PG-13', summary: 'placeholder text', tagline: 'Your mind is the scene of the crime.', title: 'Inception'})                                                                                                                                                                                                                                                                                                                                                                                                                                                                                                                                                                                                                                                                                                                                                                                                                                                                                                     \n",
       " (_3296:Movie {duration: 124, id: 710, poster_image: 'http://image.tmdb.org/t/p/w185/6u1fYtxG5eqjhtCPDx04pJphQRW.jpg', rated: 'PG', summary: 'placeholder text', tagline: 'The Adventure Continues...', title: 'Star Wars: Episode V - The Empire Strikes Back'})                                                                                                                                                                                                                                                                                                                                                                                                                                                                                                                                                                                                                                                                                                                                                                                                                                                                             \n",
       " (_3295:Movie {duration: 178, id: 698, poster_image: 'http://image.tmdb.org/t/p/w185/9HG6pINW1KoFTAKY3LdybkoOKAm.jpg', rated: 'PG-13', summary: 'Young hobbit Frodo Baggins, after inheriting a mysterious ring from his uncle Bilbo, must leave his home in order to keep it from falling into the hands of its evil creator. Along the way, a fellowship is formed to protect the ringbearer and make sure that the ring arrives at its final destination: Mt. Doom, the only place where it can be destroyed.', tagline: 'One ring to rule them all', title: 'The Lord of the Rings: The Fellowship of the Ring'})                                                                                                                                                                                                                                                                                                                                                                                                                                                                                                                         \n",
       " (_3294:Movie {duration: 139, id: 681, poster_image: 'http://image.tmdb.org/t/p/w185/2lECpi35Hnbpa4y46JX0aY3AWTy.jpg', rated: 'R', summary: 'placeholder text', tagline: \"How much can you know about yourself if you've never been in a fight?\", title: 'Fight Club'})                                                                                                                                                                                                                                                                                                                                                                                                                                                                                                                                                                                                                                                                                                                                                                                                                                                                       \n",
       " (_3293:Movie {duration: 201, id: 641, poster_image: 'http://image.tmdb.org/t/p/w185/50LoR9gJhbWZ5PpoHgi8MNTYgzd.jpg', rated: 'PG-13', summary: \"Aragorn is revealed as the heir to the ancient kings as he, Gandalf and the other members of the broken fellowship struggle to save Gondor from Sauron's forces. Meanwhile, Frodo and Sam bring the ring closer to the heart of Mordor, the dark lord's realm.\", tagline: 'The eye of the enemy is moving.', title: 'The Lord of the Rings: The Return of the King'})                                                                                                                                                                                                                                                                                                                                                                                                                                                                                                                                                                                                                        \n",
       " (_3292:Movie {duration: 96, id: 615, poster_image: 'http://image.tmdb.org/t/p/w185/wvlFtIwh0GIqHRAz9F5cCch2IJD.jpg', rated: 'NR', summary: 'placeholder text', tagline: 'Life is in their hands. Death is on their minds.', title: '12 Angry Men'})                                                                                                                                                                                                                                                                                                                                                                                                                                                                                                                                                                                                                                                                                                                                                                                                                                                                                          \n",
       " (_3291:Movie {duration: 195, id: 598, poster_image: 'http://image.tmdb.org/t/p/w185/tvOvW7Qjj63zbQW5TZ8CjPThAUd.jpg', rated: 'R', summary: 'placeholder text', tagline: 'Whoever saves one life\\\\, saves the world entire.', title: \"Schindler's List\"})                                                                                                                                                                                                                                                                                                                                                                                                                                                                                                                                                                                                                                                                                                                                                                                                                                                                                     \n",
       " (_3290:Movie {duration: 165, id: 564, poster_image: 'http://image.tmdb.org/t/p/w185/dEYnvnUfXrqvqeRSqvIEtmzhoA8.jpg', rated: 'PG-13', summary: 'placeholder text', tagline: 'The Legend Ends', title: 'The Dark Knight Rises'})                                                                                                                                                                                                                                                                                                                                                                                                                                                                                                                                                                                                                                                                                                                                                                                                                                                                                                              \n",
       " (_3289:Movie {duration: 152, id: 532, poster_image: 'http://image.tmdb.org/t/p/w185/1hRoyzDtpgMU7Dz4JF22RANzQO7.jpg', rated: 'PG-13', summary: 'placeholder text', tagline: 'Why So Serious?', title: 'The Dark Knight'})                                                                                                                                                                                                                                                                                                                                                                                                                                                                                                                                                                                                                                                                                                                                                                                                                                                                                                                    \n",
       " (_3288:Movie {duration: 161, id: 517, poster_image: 'http://image.tmdb.org/t/p/w185/8PD1dgf0kQHtRawoSxp1jFemI1q.jpg', rated: 'R', summary: 'placeholder text', tagline: \"For three men the Civil War wasn't hell. It was practice.\", title: 'The Good\\\\, the Bad and the Ugly'})                                                                                                                                                                                                                                                                                                                                                                                                                                                                                                                                                                                                                                                                                                                                                                                                                                                             \n",
       " (_3287:Movie {duration: 200, id: 496, poster_image: 'http://image.tmdb.org/t/p/w185/tHbMIIF51rguMNSastqoQwR0sBs.jpg', rated: 'R', summary: 'placeholder text', tagline: \"I don't feel I have to wipe everybody out\\\\, Tom. Just my enemies.\", title: 'The Godfather: Part II'})                                                                                                                                                                                                                                                                                                                                                                                                                                                                                                                                                                                                                                                                                                                                                                                                                                                              \n",
       " (_3286:Movie {duration: 175, id: 471, poster_image: 'http://image.tmdb.org/t/p/w185/d4KNaTrltq6bpkFS01pYtyXa09m.jpg', rated: 'R', summary: 'placeholder text', tagline: \"An offer you can't refuse.\", title: 'The Godfather'})                                                                                                                                                                                                                                                                                                                                                                                                                                                                                                                                                                                                                                                                                                                                                                                                                                                                                                               \n",
       " (_3285:Movie {duration: 142, id: 457, poster_image: 'http://image.tmdb.org/t/p/w185/9O7gLzmreU0nGkIB6K3BsJbzvNv.jpg', rated: 'R', summary: 'placeholder text', tagline: 'Fear can hold you prisoner. Hope can set you free.', title: 'The Shawshank Redemption'})                                                                                                                                                                                                                                                                                                                                                                                                                                                                                                                                                                                                                                                                                                                                                                                                                                                                            \n",
       " (_3284:Movie {duration: 172, id: 130, poster_image: 'http://image.tmdb.org/t/p/w185/k9gWDjfXM80iXQLuMvPlZgSFJgR.jpg', rated: 'R', summary: 'placeholder text', tagline: 'Everything is Connected', title: 'Cloud Atlas'})                                                                                                                                                                                                                                                                                                                                                                                                                                                                                                                                                                                                                                                                                                                                                                                                                                                                                                                    \n",
       " (_3283:Movie {duration: 154, id: 82, poster_image: 'http://image.tmdb.org/t/p/w185/dM2w364MScsjFf8pfMbaWUcWrR.jpg', rated: 'R', summary: 'placeholder text', tagline: \"Just because you are a character doesn't mean you have character.\", title: 'Pulp Fiction'})                                                                                                                                                                                                                                                                                                                                                                                                                                                                                                                                                                                                                                                                                                                                                                                                                                                                           \n",
       " (_3282:Movie {duration: 129, id: 68, poster_image: 'http://image.tmdb.org/t/p/w185/sKogjhfs5q3azmpW7DFKKAeLEG8.jpg', rated: 'R', summary: 'The human city of Zion defends itself against the massive invasion of the machines as Neo fights to end the war at another front while also opposing the rogue Agent Smith.', tagline: 'Everything that has a beginning has an end.', title: 'The Matrix Revolutions'})                                                                                                                                                                                                                                                                                                                                                                                                                                                                                                                                                                                                                                                                                                                           \n",
       " (_3281:Movie {duration: 138, id: 28, poster_image: 'http://image.tmdb.org/t/p/w185/ezIurBz2fdUc68d98Fp9dRf5ihv.jpg', rated: 'R', summary: \"Six months after the events depicted in The Matrix, Neo has proved to be a good omen for the free humans, as more and more humans are being freed from the matrix and brought to Zion, the one and only stronghold of the Resistance. Neo himself has discovered his superpowers including super speed, ability to see the codes of the things inside the matrix and a certain degree of pre-cognition. But a nasty piece of news hits the human resistance: 250,000 machine sentinels are digging to Zion and would reach them in 72 hours. As Zion prepares for the ultimate war, Neo, Morpheus and Trinity are advised by the Oracle to find the Keymaker who would help them reach the Source. Meanwhile Neo's recurrent dreams depicting Trinity's death have got him worried and as if it was not enough, Agent Smith has somehow escaped deletion, has become more powerful than before and has fixed Neo as his next target.\", tagline: 'Free your mind.', title: 'The Matrix Reloaded'}) \n",
       " (_3280:Movie {duration: 136, id: 1, poster_image: 'http://image.tmdb.org/t/p/w185/gynBNzwyaHKtXqlEKKLioNkjKgN.jpg', rated: 'R', summary: 'Thomas A. Anderson is a man living two lives. By day he is an average computer programmer and by night a malevolent hacker known as Neo, who finds himself targeted by the police when he is contacted by Morpheus, a legendary computer hacker, who reveals the shocking truth about our reality.', tagline: 'Welcome to the Real World.', title: 'The Matrix'})                                                                                                                                                                                                                                                                                                                                                                                                                                                                                                                                                                                                                                  "
      ]
     },
     "execution_count": 31,
     "metadata": {},
     "output_type": "execute_result"
    }
   ],
   "source": [
    "query = \"MATCH (m:Movie) RETURN m.title ORDER BY m.title DESC LIMIT 100\"\n",
    "result = graph.run(query)\n",
    "result.to_table()"
   ]
  },
  {
   "cell_type": "markdown",
   "metadata": {},
   "source": [
    "# Task2"
   ]
  },
  {
   "cell_type": "markdown",
   "metadata": {},
   "source": [
    "(a) State how a matrix multiplication is done in general. Multiply both matrices with\n",
    "each other and write down the resulting matrix C. Could you achieve other solutions\n",
    "for C with the matrices A and B?"
   ]
  },
  {
   "cell_type": "code",
   "execution_count": 24,
   "metadata": {},
   "outputs": [
    {
     "name": "stdout",
     "output_type": "stream",
     "text": [
      "Matrix1:\n",
      "   0   1   2\n",
      "0  2   3   5\n",
      "1  7  11  13\n",
      "Dimension:\n",
      "(2, 3)\n",
      "Matrix2:\n",
      "    0   1\n",
      "0  17  19\n",
      "1  23  29\n",
      "2  31  37\n",
      "Dimension:\n",
      "(3, 2)\n",
      "     0    1\n",
      "0  258  310\n",
      "1  775  933\n",
      "[[258 310]\n",
      " [775 933]]\n"
     ]
    }
   ],
   "source": [
    "matrix1 = [(2, 3, 5),\n",
    "\n",
    "           (7, 11, 13)];\n",
    "\n",
    " \n",
    "\n",
    "matrix2 = [(17, 19),\n",
    "\n",
    "           (23, 29),\n",
    "\n",
    "           (31, 37)];\n",
    "\n",
    " \n",
    "\n",
    "# Data loaded into pandas DataFrames\n",
    "\n",
    "dataFrame1 = pd.DataFrame(data=matrix1);\n",
    "\n",
    "dataFrame2 = pd.DataFrame(data=matrix2);\n",
    "\n",
    " \n",
    "\n",
    "print(\"Matrix1:\");\n",
    "\n",
    "print(dataFrame1);\n",
    "\n",
    "print(\"Dimension:\");\n",
    "\n",
    "print(dataFrame1.shape);\n",
    "\n",
    " \n",
    "\n",
    "print(\"Matrix2:\");\n",
    "\n",
    "print(dataFrame2);\n",
    "\n",
    "print(\"Dimension:\");\n",
    "\n",
    "print(dataFrame2.shape);\n",
    "\n",
    "result = dataFrame1.dot(dataFrame2)\n",
    "print(result)\n",
    "###############################################################\n",
    "mult = np.mat(matrix1) * np.mat(matrix2)\n",
    "print(mult)"
   ]
  },
  {
   "cell_type": "code",
   "execution_count": 29,
   "metadata": {},
   "outputs": [
    {
     "name": "stdout",
     "output_type": "stream",
     "text": [
      "[[258 310]\n",
      " [775 933]]\n"
     ]
    }
   ],
   "source": [
    "A = [(2,3,5),(7,11,13)]; B = [(17,19),(23,29),(31,37)];\n",
    "C = np.mat(A) * np.mat(B)\n",
    "#print(np.mat(A))\n",
    "print(multMatrix)"
   ]
  },
  {
   "cell_type": "markdown",
   "metadata": {},
   "source": [
    "(b) Explain how the matrices can be multiplied by MapReduce. Begin with rewriting\n",
    "the matrices as tuples (i, j, a ij ) and (j, k, b jk ).\n",
    "Explain all steps in general and give at least one numerical example for each step.\n",
    "Verify the results with your solution in (a)."
   ]
  },
  {
   "cell_type": "code",
   "execution_count": null,
   "metadata": {},
   "outputs": [],
   "source": []
  },
  {
   "cell_type": "markdown",
   "metadata": {},
   "source": [
    "(c) Implement a function matrixMultiplication() with python, which takes 2 matrices as\n",
    "arguments. The function returns the product of both matrices. Within the function\n",
    "use the type of functions, which were introduced in Assignment 2 Task 1 !! Again,\n",
    "verify your result with the solutions from (a) and (b)."
   ]
  },
  {
   "cell_type": "code",
   "execution_count": null,
   "metadata": {},
   "outputs": [],
   "source": []
  }
 ],
 "metadata": {
  "kernelspec": {
   "display_name": "Python 3",
   "language": "python",
   "name": "python3"
  },
  "language_info": {
   "codemirror_mode": {
    "name": "ipython",
    "version": 3
   },
   "file_extension": ".py",
   "mimetype": "text/x-python",
   "name": "python",
   "nbconvert_exporter": "python",
   "pygments_lexer": "ipython3",
   "version": "3.7.4"
  }
 },
 "nbformat": 4,
 "nbformat_minor": 4
}
