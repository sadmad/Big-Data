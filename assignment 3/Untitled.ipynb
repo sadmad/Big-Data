{
 "cells": [
  {
   "cell_type": "code",
   "execution_count": 6,
   "metadata": {},
   "outputs": [
    {
     "name": "stdout",
     "output_type": "stream",
     "text": [
      "[[258, 310], [775.0, 933]]\n"
     ]
    }
   ],
   "source": [
    "matrix1 = [(2, 3, 5),\n",
    "\n",
    "           (7, 11, 13)]\n",
    "\n",
    "matrix2 = [(17, 19),\n",
    "\n",
    "           (23, 29),\n",
    "\n",
    "           (31, 37)];\n",
    "result = [[0,0],[0.,0]]\n",
    "for i in range(len(matrix1)):\n",
    "    for k in range(len(matrix2[0])):\n",
    "        for j in range(len(matrix2)):\n",
    "                   result[i][k] += matrix1[i][j] * matrix2[j][k]\n",
    "print(result)"
   ]
  },
  {
   "cell_type": "code",
   "execution_count": null,
   "metadata": {},
   "outputs": [],
   "source": []
  }
 ],
 "metadata": {
  "kernelspec": {
   "display_name": "Python 3",
   "language": "python",
   "name": "python3"
  },
  "language_info": {
   "codemirror_mode": {
    "name": "ipython",
    "version": 3
   },
   "file_extension": ".py",
   "mimetype": "text/x-python",
   "name": "python",
   "nbconvert_exporter": "python",
   "pygments_lexer": "ipython3",
   "version": "3.7.4"
  }
 },
 "nbformat": 4,
 "nbformat_minor": 4
}
